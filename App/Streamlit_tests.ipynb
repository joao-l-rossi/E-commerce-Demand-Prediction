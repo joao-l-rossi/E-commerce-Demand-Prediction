{
 "cells": [
  {
   "cell_type": "code",
   "execution_count": 2,
   "id": "2a3defe2-ffad-45c9-9a6b-cbd1da009995",
   "metadata": {},
   "outputs": [
    {
     "name": "stderr",
     "output_type": "stream",
     "text": [
      "2022-01-25 21:04:38.063 INFO    numexpr.utils: Note: NumExpr detected 12 cores but \"NUMEXPR_MAX_THREADS\" not set, so enforcing safe limit of 8.\n",
      "2022-01-25 21:04:38.064 INFO    numexpr.utils: NumExpr defaulting to 8 threads.\n"
     ]
    }
   ],
   "source": [
    "import streamlit as st\n",
    "import pandas as pd\n",
    "import numpy as np\n",
    "from millify import millify\n",
    "import plotly.express as px\n",
    "from plotly.subplots import make_subplots\n",
    "import plotly.graph_objects as go\n",
    "import matplotlib.pyplot as plt"
   ]
  },
  {
   "cell_type": "code",
   "execution_count": 4,
   "id": "c7c2d4b9-051b-491c-97d2-f5e3d31922d5",
   "metadata": {},
   "outputs": [],
   "source": [
    "df = pd.read_csv(\"df_output_predictions_tuned_2.csv\", index_col = \"Unnamed: 0\")\n",
    "df_metrics = pd.read_csv(\"/home/joaolrossi/Desktop/LightHouseLabs/data_bootcamp/Final_Project/Data/df_metrics_tuned_2.csv\", index_col = \"Unnamed: 0\")"
   ]
  },
  {
   "cell_type": "code",
   "execution_count": 3,
   "id": "ddf490dc-24e4-4a3d-9cb0-cb491441255b",
   "metadata": {},
   "outputs": [
    {
     "data": {
      "text/html": [
       "<div>\n",
       "<style scoped>\n",
       "    .dataframe tbody tr th:only-of-type {\n",
       "        vertical-align: middle;\n",
       "    }\n",
       "\n",
       "    .dataframe tbody tr th {\n",
       "        vertical-align: top;\n",
       "    }\n",
       "\n",
       "    .dataframe thead th {\n",
       "        text-align: right;\n",
       "    }\n",
       "</style>\n",
       "<table border=\"1\" class=\"dataframe\">\n",
       "  <thead>\n",
       "    <tr style=\"text-align: right;\">\n",
       "      <th></th>\n",
       "      <th>ds</th>\n",
       "      <th>yhat</th>\n",
       "      <th>yhat_lower</th>\n",
       "      <th>yhat_upper</th>\n",
       "      <th>y</th>\n",
       "      <th>item</th>\n",
       "      <th>country</th>\n",
       "    </tr>\n",
       "  </thead>\n",
       "  <tbody>\n",
       "    <tr>\n",
       "      <th>0</th>\n",
       "      <td>2019-06-01</td>\n",
       "      <td>30.444337</td>\n",
       "      <td>4.092993</td>\n",
       "      <td>52.469448</td>\n",
       "      <td>3.0</td>\n",
       "      <td>Running shoes</td>\n",
       "      <td>Czech Republic</td>\n",
       "    </tr>\n",
       "    <tr>\n",
       "      <th>1</th>\n",
       "      <td>2019-06-03</td>\n",
       "      <td>50.872299</td>\n",
       "      <td>26.499444</td>\n",
       "      <td>75.950752</td>\n",
       "      <td>2.0</td>\n",
       "      <td>Running shoes</td>\n",
       "      <td>Czech Republic</td>\n",
       "    </tr>\n",
       "    <tr>\n",
       "      <th>2</th>\n",
       "      <td>2019-06-04</td>\n",
       "      <td>44.570893</td>\n",
       "      <td>19.572739</td>\n",
       "      <td>68.330025</td>\n",
       "      <td>71.0</td>\n",
       "      <td>Running shoes</td>\n",
       "      <td>Czech Republic</td>\n",
       "    </tr>\n",
       "    <tr>\n",
       "      <th>3</th>\n",
       "      <td>2019-06-05</td>\n",
       "      <td>40.891288</td>\n",
       "      <td>15.760528</td>\n",
       "      <td>64.820865</td>\n",
       "      <td>69.0</td>\n",
       "      <td>Running shoes</td>\n",
       "      <td>Czech Republic</td>\n",
       "    </tr>\n",
       "    <tr>\n",
       "      <th>4</th>\n",
       "      <td>2019-06-06</td>\n",
       "      <td>34.193648</td>\n",
       "      <td>8.313032</td>\n",
       "      <td>58.286995</td>\n",
       "      <td>21.0</td>\n",
       "      <td>Running shoes</td>\n",
       "      <td>Czech Republic</td>\n",
       "    </tr>\n",
       "    <tr>\n",
       "      <th>...</th>\n",
       "      <td>...</td>\n",
       "      <td>...</td>\n",
       "      <td>...</td>\n",
       "      <td>...</td>\n",
       "      <td>...</td>\n",
       "      <td>...</td>\n",
       "      <td>...</td>\n",
       "    </tr>\n",
       "    <tr>\n",
       "      <th>65</th>\n",
       "      <td>2019-08-10</td>\n",
       "      <td>16.316958</td>\n",
       "      <td>-8.937168</td>\n",
       "      <td>41.414831</td>\n",
       "      <td>18.0</td>\n",
       "      <td>Running shoes</td>\n",
       "      <td>Czech Republic</td>\n",
       "    </tr>\n",
       "    <tr>\n",
       "      <th>66</th>\n",
       "      <td>2019-08-11</td>\n",
       "      <td>31.500416</td>\n",
       "      <td>7.511425</td>\n",
       "      <td>53.870652</td>\n",
       "      <td>28.0</td>\n",
       "      <td>Running shoes</td>\n",
       "      <td>Czech Republic</td>\n",
       "    </tr>\n",
       "    <tr>\n",
       "      <th>67</th>\n",
       "      <td>2019-08-12</td>\n",
       "      <td>38.246013</td>\n",
       "      <td>14.024883</td>\n",
       "      <td>62.331487</td>\n",
       "      <td>66.0</td>\n",
       "      <td>Running shoes</td>\n",
       "      <td>Czech Republic</td>\n",
       "    </tr>\n",
       "    <tr>\n",
       "      <th>68</th>\n",
       "      <td>2019-08-13</td>\n",
       "      <td>32.815249</td>\n",
       "      <td>9.185071</td>\n",
       "      <td>56.838368</td>\n",
       "      <td>35.0</td>\n",
       "      <td>Running shoes</td>\n",
       "      <td>Czech Republic</td>\n",
       "    </tr>\n",
       "    <tr>\n",
       "      <th>69</th>\n",
       "      <td>2019-08-14</td>\n",
       "      <td>30.082928</td>\n",
       "      <td>6.085702</td>\n",
       "      <td>55.331232</td>\n",
       "      <td>33.0</td>\n",
       "      <td>Running shoes</td>\n",
       "      <td>Czech Republic</td>\n",
       "    </tr>\n",
       "  </tbody>\n",
       "</table>\n",
       "<p>70 rows × 7 columns</p>\n",
       "</div>"
      ],
      "text/plain": [
       "            ds       yhat  yhat_lower  yhat_upper     y           item  \\\n",
       "0   2019-06-01  30.444337    4.092993   52.469448   3.0  Running shoes   \n",
       "1   2019-06-03  50.872299   26.499444   75.950752   2.0  Running shoes   \n",
       "2   2019-06-04  44.570893   19.572739   68.330025  71.0  Running shoes   \n",
       "3   2019-06-05  40.891288   15.760528   64.820865  69.0  Running shoes   \n",
       "4   2019-06-06  34.193648    8.313032   58.286995  21.0  Running shoes   \n",
       "..         ...        ...         ...         ...   ...            ...   \n",
       "65  2019-08-10  16.316958   -8.937168   41.414831  18.0  Running shoes   \n",
       "66  2019-08-11  31.500416    7.511425   53.870652  28.0  Running shoes   \n",
       "67  2019-08-12  38.246013   14.024883   62.331487  66.0  Running shoes   \n",
       "68  2019-08-13  32.815249    9.185071   56.838368  35.0  Running shoes   \n",
       "69  2019-08-14  30.082928    6.085702   55.331232  33.0  Running shoes   \n",
       "\n",
       "           country  \n",
       "0   Czech Republic  \n",
       "1   Czech Republic  \n",
       "2   Czech Republic  \n",
       "3   Czech Republic  \n",
       "4   Czech Republic  \n",
       "..             ...  \n",
       "65  Czech Republic  \n",
       "66  Czech Republic  \n",
       "67  Czech Republic  \n",
       "68  Czech Republic  \n",
       "69  Czech Republic  \n",
       "\n",
       "[70 rows x 7 columns]"
      ]
     },
     "execution_count": 3,
     "metadata": {},
     "output_type": "execute_result"
    }
   ],
   "source": [
    "df.head(70)"
   ]
  },
  {
   "cell_type": "code",
   "execution_count": 4,
   "id": "f8647544-2cf1-47a7-a68e-7531985934c9",
   "metadata": {},
   "outputs": [
    {
     "data": {
      "text/plain": [
       "(92040, 7)"
      ]
     },
     "execution_count": 4,
     "metadata": {},
     "output_type": "execute_result"
    }
   ],
   "source": [
    "df.shape"
   ]
  },
  {
   "cell_type": "code",
   "execution_count": null,
   "id": "64245747-6109-4255-8e17-d7b2ccbf8d49",
   "metadata": {},
   "outputs": [],
   "source": []
  },
  {
   "cell_type": "code",
   "execution_count": 32,
   "id": "6ad32e0e-fa22-4dee-bb61-37f0d1f03a3d",
   "metadata": {},
   "outputs": [],
   "source": [
    "select_item = \"Pants\"\n",
    "select_country = \"Czech Republic\""
   ]
  },
  {
   "cell_type": "code",
   "execution_count": 34,
   "id": "e9a8173f-12a2-4ceb-9632-cfadc978091e",
   "metadata": {},
   "outputs": [],
   "source": [
    "df_temp = df[(df['item'] == select_item) & (df['country'] == select_country)]\n",
    "df_metrics = df_metrics[(df_metrics['product'] == select_item) & (df_metrics['country'] == select_country)]\n",
    "\n"
   ]
  },
  {
   "cell_type": "code",
   "execution_count": 44,
   "id": "e5819587-371b-4f0e-9a5a-fc118bc79fb7",
   "metadata": {},
   "outputs": [
    {
     "data": {
      "text/html": [
       "<div>\n",
       "<style scoped>\n",
       "    .dataframe tbody tr th:only-of-type {\n",
       "        vertical-align: middle;\n",
       "    }\n",
       "\n",
       "    .dataframe tbody tr th {\n",
       "        vertical-align: top;\n",
       "    }\n",
       "\n",
       "    .dataframe thead th {\n",
       "        text-align: right;\n",
       "    }\n",
       "</style>\n",
       "<table border=\"1\" class=\"dataframe\">\n",
       "  <thead>\n",
       "    <tr style=\"text-align: right;\">\n",
       "      <th></th>\n",
       "      <th>product</th>\n",
       "      <th>country</th>\n",
       "      <th>mape_baseline</th>\n",
       "      <th>mape_best</th>\n",
       "      <th>tomorrow</th>\n",
       "      <th>next_week</th>\n",
       "      <th>next_month</th>\n",
       "      <th>day_increase</th>\n",
       "      <th>week_increase</th>\n",
       "      <th>month_increase</th>\n",
       "    </tr>\n",
       "  </thead>\n",
       "  <tbody>\n",
       "    <tr>\n",
       "      <th>1</th>\n",
       "      <td>Pants</td>\n",
       "      <td>Czech Republic</td>\n",
       "      <td>0.33</td>\n",
       "      <td>0.32</td>\n",
       "      <td>54.051256</td>\n",
       "      <td>368.0</td>\n",
       "      <td>1600.0</td>\n",
       "      <td>-11%</td>\n",
       "      <td>-13%</td>\n",
       "      <td>-28%</td>\n",
       "    </tr>\n",
       "  </tbody>\n",
       "</table>\n",
       "</div>"
      ],
      "text/plain": [
       "  product         country  mape_baseline  mape_best   tomorrow  next_week  \\\n",
       "1   Pants  Czech Republic           0.33       0.32  54.051256      368.0   \n",
       "\n",
       "   next_month day_increase week_increase month_increase  \n",
       "1      1600.0         -11%          -13%           -28%  "
      ]
     },
     "execution_count": 44,
     "metadata": {},
     "output_type": "execute_result"
    }
   ],
   "source": [
    "df_metrics"
   ]
  },
  {
   "cell_type": "code",
   "execution_count": 43,
   "id": "95bf2ef5-893f-4b02-8e6f-f25c3561a486",
   "metadata": {},
   "outputs": [
    {
     "data": {
      "text/plain": [
       "54.05125618358416"
      ]
     },
     "execution_count": 43,
     "metadata": {},
     "output_type": "execute_result"
    }
   ],
   "source": [
    "df_metrics.tomorrow.values[0]"
   ]
  },
  {
   "cell_type": "code",
   "execution_count": 16,
   "id": "93109dda-0734-4b5b-a247-246146160cc3",
   "metadata": {},
   "outputs": [
    {
     "data": {
      "text/plain": [
       "961.0"
      ]
     },
     "execution_count": 16,
     "metadata": {},
     "output_type": "execute_result"
    }
   ],
   "source": [
    "float(df_metrics.tomorrow[0].split(\"    \")[0])"
   ]
  },
  {
   "cell_type": "code",
   "execution_count": 17,
   "id": "e73fca75-a03a-46a9-9e69-5e698f4d1ce5",
   "metadata": {},
   "outputs": [
    {
     "data": {
      "text/plain": [
       "['961', '44.854848\\nName: yhat, dtype: float64']"
      ]
     },
     "execution_count": 17,
     "metadata": {},
     "output_type": "execute_result"
    }
   ],
   "source": [
    "df_metrics.tomorrow[0].split(\"    \")"
   ]
  },
  {
   "cell_type": "code",
   "execution_count": 5,
   "id": "91eb8de6-eb6f-41d5-8602-95aa8f2eb344",
   "metadata": {},
   "outputs": [
    {
     "data": {
      "text/html": [
       "<div>\n",
       "<style scoped>\n",
       "    .dataframe tbody tr th:only-of-type {\n",
       "        vertical-align: middle;\n",
       "    }\n",
       "\n",
       "    .dataframe tbody tr th {\n",
       "        vertical-align: top;\n",
       "    }\n",
       "\n",
       "    .dataframe thead th {\n",
       "        text-align: right;\n",
       "    }\n",
       "</style>\n",
       "<table border=\"1\" class=\"dataframe\">\n",
       "  <thead>\n",
       "    <tr style=\"text-align: right;\">\n",
       "      <th></th>\n",
       "      <th>mape_baseline</th>\n",
       "      <th>mape_best</th>\n",
       "      <th>tomorrow</th>\n",
       "      <th>next_week</th>\n",
       "      <th>next_month</th>\n",
       "    </tr>\n",
       "  </thead>\n",
       "  <tbody>\n",
       "    <tr>\n",
       "      <th>count</th>\n",
       "      <td>102.000000</td>\n",
       "      <td>102.000000</td>\n",
       "      <td>102.000000</td>\n",
       "      <td>102.000000</td>\n",
       "      <td>102.000000</td>\n",
       "    </tr>\n",
       "    <tr>\n",
       "      <th>mean</th>\n",
       "      <td>0.867647</td>\n",
       "      <td>0.650588</td>\n",
       "      <td>92.374995</td>\n",
       "      <td>488.970588</td>\n",
       "      <td>2280.000000</td>\n",
       "    </tr>\n",
       "    <tr>\n",
       "      <th>std</th>\n",
       "      <td>0.699283</td>\n",
       "      <td>0.463443</td>\n",
       "      <td>321.294476</td>\n",
       "      <td>1677.543557</td>\n",
       "      <td>7815.959543</td>\n",
       "    </tr>\n",
       "    <tr>\n",
       "      <th>min</th>\n",
       "      <td>0.210000</td>\n",
       "      <td>0.160000</td>\n",
       "      <td>-0.061769</td>\n",
       "      <td>-2.000000</td>\n",
       "      <td>-26.000000</td>\n",
       "    </tr>\n",
       "    <tr>\n",
       "      <th>25%</th>\n",
       "      <td>0.390000</td>\n",
       "      <td>0.342500</td>\n",
       "      <td>7.626814</td>\n",
       "      <td>40.000000</td>\n",
       "      <td>192.250000</td>\n",
       "    </tr>\n",
       "    <tr>\n",
       "      <th>50%</th>\n",
       "      <td>0.700000</td>\n",
       "      <td>0.560000</td>\n",
       "      <td>16.487816</td>\n",
       "      <td>90.500000</td>\n",
       "      <td>425.500000</td>\n",
       "    </tr>\n",
       "    <tr>\n",
       "      <th>75%</th>\n",
       "      <td>0.985000</td>\n",
       "      <td>0.730000</td>\n",
       "      <td>46.931874</td>\n",
       "      <td>268.000000</td>\n",
       "      <td>1239.000000</td>\n",
       "    </tr>\n",
       "    <tr>\n",
       "      <th>max</th>\n",
       "      <td>3.690000</td>\n",
       "      <td>2.640000</td>\n",
       "      <td>3108.898573</td>\n",
       "      <td>16201.000000</td>\n",
       "      <td>75281.000000</td>\n",
       "    </tr>\n",
       "  </tbody>\n",
       "</table>\n",
       "</div>"
      ],
      "text/plain": [
       "       mape_baseline   mape_best     tomorrow     next_week    next_month\n",
       "count     102.000000  102.000000   102.000000    102.000000    102.000000\n",
       "mean        0.867647    0.650588    92.374995    488.970588   2280.000000\n",
       "std         0.699283    0.463443   321.294476   1677.543557   7815.959543\n",
       "min         0.210000    0.160000    -0.061769     -2.000000    -26.000000\n",
       "25%         0.390000    0.342500     7.626814     40.000000    192.250000\n",
       "50%         0.700000    0.560000    16.487816     90.500000    425.500000\n",
       "75%         0.985000    0.730000    46.931874    268.000000   1239.000000\n",
       "max         3.690000    2.640000  3108.898573  16201.000000  75281.000000"
      ]
     },
     "execution_count": 5,
     "metadata": {},
     "output_type": "execute_result"
    }
   ],
   "source": [
    "df_metrics.describe()"
   ]
  },
  {
   "cell_type": "code",
   "execution_count": 6,
   "id": "f3cf980d-4a2e-4716-ba2f-8600230c71be",
   "metadata": {},
   "outputs": [],
   "source": [
    "from scipy import stats"
   ]
  },
  {
   "cell_type": "code",
   "execution_count": 7,
   "id": "0f298163-531a-4478-afc1-fe3331dc01f4",
   "metadata": {},
   "outputs": [
    {
     "data": {
      "text/plain": [
       "Ttest_relResult(statistic=6.127462300400767, pvalue=1.734964288075838e-08)"
      ]
     },
     "execution_count": 7,
     "metadata": {},
     "output_type": "execute_result"
    }
   ],
   "source": [
    "stats.ttest_rel(df_metrics['mape_baseline'], df_metrics['mape_best'])"
   ]
  },
  {
   "cell_type": "code",
   "execution_count": null,
   "id": "13dac0f3-c0c9-48fc-a709-5441b62ca3a2",
   "metadata": {},
   "outputs": [],
   "source": []
  },
  {
   "cell_type": "code",
   "execution_count": null,
   "id": "70dd3c5b-cda5-472e-ac2a-7cc818ece93a",
   "metadata": {},
   "outputs": [],
   "source": []
  }
 ],
 "metadata": {
  "kernelspec": {
   "display_name": "Python 3 (ipykernel)",
   "language": "python",
   "name": "python3"
  },
  "language_info": {
   "codemirror_mode": {
    "name": "ipython",
    "version": 3
   },
   "file_extension": ".py",
   "mimetype": "text/x-python",
   "name": "python",
   "nbconvert_exporter": "python",
   "pygments_lexer": "ipython3",
   "version": "3.8.8"
  }
 },
 "nbformat": 4,
 "nbformat_minor": 5
}
