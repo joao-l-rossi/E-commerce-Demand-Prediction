{
 "cells": [
  {
   "cell_type": "code",
   "execution_count": 25,
   "id": "2a3defe2-ffad-45c9-9a6b-cbd1da009995",
   "metadata": {},
   "outputs": [],
   "source": [
    "import streamlit as st\n",
    "import pandas as pd\n",
    "import numpy as np\n",
    "import plotly.express as px\n",
    "from plotly.subplots import make_subplots\n",
    "import plotly.graph_objects as go\n",
    "import matplotlib.pyplot as plt"
   ]
  },
  {
   "cell_type": "code",
   "execution_count": 26,
   "id": "c7c2d4b9-051b-491c-97d2-f5e3d31922d5",
   "metadata": {},
   "outputs": [],
   "source": [
    "df = pd.read_csv(\"df_output_predictions.csv\", index_col = \"Unnamed: 0\")"
   ]
  },
  {
   "cell_type": "code",
   "execution_count": 32,
   "id": "ddf490dc-24e4-4a3d-9cb0-cb491441255b",
   "metadata": {},
   "outputs": [
    {
     "data": {
      "text/html": [
       "<div>\n",
       "<style scoped>\n",
       "    .dataframe tbody tr th:only-of-type {\n",
       "        vertical-align: middle;\n",
       "    }\n",
       "\n",
       "    .dataframe tbody tr th {\n",
       "        vertical-align: top;\n",
       "    }\n",
       "\n",
       "    .dataframe thead th {\n",
       "        text-align: right;\n",
       "    }\n",
       "</style>\n",
       "<table border=\"1\" class=\"dataframe\">\n",
       "  <thead>\n",
       "    <tr style=\"text-align: right;\">\n",
       "      <th></th>\n",
       "      <th>date</th>\n",
       "      <th>country</th>\n",
       "      <th>item</th>\n",
       "      <th>label</th>\n",
       "      <th>value</th>\n",
       "      <th>lower</th>\n",
       "      <th>upper</th>\n",
       "    </tr>\n",
       "  </thead>\n",
       "  <tbody>\n",
       "    <tr>\n",
       "      <th>0</th>\n",
       "      <td>2021-11-15</td>\n",
       "      <td>Czech Republic</td>\n",
       "      <td>Running shoes</td>\n",
       "      <td>Observed</td>\n",
       "      <td>75</td>\n",
       "      <td>NaN</td>\n",
       "      <td>NaN</td>\n",
       "    </tr>\n",
       "    <tr>\n",
       "      <th>1</th>\n",
       "      <td>2021-11-16</td>\n",
       "      <td>Czech Republic</td>\n",
       "      <td>Running shoes</td>\n",
       "      <td>Observed</td>\n",
       "      <td>87</td>\n",
       "      <td>NaN</td>\n",
       "      <td>NaN</td>\n",
       "    </tr>\n",
       "    <tr>\n",
       "      <th>2</th>\n",
       "      <td>2021-11-17</td>\n",
       "      <td>Czech Republic</td>\n",
       "      <td>Running shoes</td>\n",
       "      <td>Observed</td>\n",
       "      <td>79</td>\n",
       "      <td>NaN</td>\n",
       "      <td>NaN</td>\n",
       "    </tr>\n",
       "    <tr>\n",
       "      <th>3</th>\n",
       "      <td>2021-11-18</td>\n",
       "      <td>Czech Republic</td>\n",
       "      <td>Running shoes</td>\n",
       "      <td>Observed</td>\n",
       "      <td>65</td>\n",
       "      <td>NaN</td>\n",
       "      <td>NaN</td>\n",
       "    </tr>\n",
       "    <tr>\n",
       "      <th>4</th>\n",
       "      <td>2021-11-19</td>\n",
       "      <td>Czech Republic</td>\n",
       "      <td>Running shoes</td>\n",
       "      <td>Observed</td>\n",
       "      <td>57</td>\n",
       "      <td>NaN</td>\n",
       "      <td>NaN</td>\n",
       "    </tr>\n",
       "    <tr>\n",
       "      <th>...</th>\n",
       "      <td>...</td>\n",
       "      <td>...</td>\n",
       "      <td>...</td>\n",
       "      <td>...</td>\n",
       "      <td>...</td>\n",
       "      <td>...</td>\n",
       "      <td>...</td>\n",
       "    </tr>\n",
       "    <tr>\n",
       "      <th>65</th>\n",
       "      <td>2022-01-19</td>\n",
       "      <td>Czech Republic</td>\n",
       "      <td>Running shoes</td>\n",
       "      <td>Predicted</td>\n",
       "      <td>61</td>\n",
       "      <td>36.593991</td>\n",
       "      <td>85.507678</td>\n",
       "    </tr>\n",
       "    <tr>\n",
       "      <th>66</th>\n",
       "      <td>2022-01-20</td>\n",
       "      <td>Czech Republic</td>\n",
       "      <td>Running shoes</td>\n",
       "      <td>Predicted</td>\n",
       "      <td>55</td>\n",
       "      <td>30.263466</td>\n",
       "      <td>78.717862</td>\n",
       "    </tr>\n",
       "    <tr>\n",
       "      <th>67</th>\n",
       "      <td>2022-01-21</td>\n",
       "      <td>Czech Republic</td>\n",
       "      <td>Running shoes</td>\n",
       "      <td>Predicted</td>\n",
       "      <td>48</td>\n",
       "      <td>24.638350</td>\n",
       "      <td>73.415860</td>\n",
       "    </tr>\n",
       "    <tr>\n",
       "      <th>68</th>\n",
       "      <td>2022-01-22</td>\n",
       "      <td>Czech Republic</td>\n",
       "      <td>Running shoes</td>\n",
       "      <td>Predicted</td>\n",
       "      <td>45</td>\n",
       "      <td>20.559564</td>\n",
       "      <td>68.799206</td>\n",
       "    </tr>\n",
       "    <tr>\n",
       "      <th>69</th>\n",
       "      <td>2021-11-15</td>\n",
       "      <td>Czech Republic</td>\n",
       "      <td>Pants</td>\n",
       "      <td>Observed</td>\n",
       "      <td>126</td>\n",
       "      <td>NaN</td>\n",
       "      <td>NaN</td>\n",
       "    </tr>\n",
       "  </tbody>\n",
       "</table>\n",
       "<p>70 rows × 7 columns</p>\n",
       "</div>"
      ],
      "text/plain": [
       "          date         country           item      label  value      lower  \\\n",
       "0   2021-11-15  Czech Republic  Running shoes   Observed     75        NaN   \n",
       "1   2021-11-16  Czech Republic  Running shoes   Observed     87        NaN   \n",
       "2   2021-11-17  Czech Republic  Running shoes   Observed     79        NaN   \n",
       "3   2021-11-18  Czech Republic  Running shoes   Observed     65        NaN   \n",
       "4   2021-11-19  Czech Republic  Running shoes   Observed     57        NaN   \n",
       "..         ...             ...            ...        ...    ...        ...   \n",
       "65  2022-01-19  Czech Republic  Running shoes  Predicted     61  36.593991   \n",
       "66  2022-01-20  Czech Republic  Running shoes  Predicted     55  30.263466   \n",
       "67  2022-01-21  Czech Republic  Running shoes  Predicted     48  24.638350   \n",
       "68  2022-01-22  Czech Republic  Running shoes  Predicted     45  20.559564   \n",
       "69  2021-11-15  Czech Republic          Pants   Observed    126        NaN   \n",
       "\n",
       "        upper  \n",
       "0         NaN  \n",
       "1         NaN  \n",
       "2         NaN  \n",
       "3         NaN  \n",
       "4         NaN  \n",
       "..        ...  \n",
       "65  85.507678  \n",
       "66  78.717862  \n",
       "67  73.415860  \n",
       "68  68.799206  \n",
       "69        NaN  \n",
       "\n",
       "[70 rows x 7 columns]"
      ]
     },
     "execution_count": 32,
     "metadata": {},
     "output_type": "execute_result"
    }
   ],
   "source": [
    "df.head(70)"
   ]
  },
  {
   "cell_type": "code",
   "execution_count": 28,
   "id": "6ad32e0e-fa22-4dee-bb61-37f0d1f03a3d",
   "metadata": {},
   "outputs": [],
   "source": [
    "select_item = \"Running shoes\"\n",
    "select_country = \"Czech Republic\""
   ]
  },
  {
   "cell_type": "code",
   "execution_count": 29,
   "id": "e9a8173f-12a2-4ceb-9632-cfadc978091e",
   "metadata": {},
   "outputs": [],
   "source": [
    "df_temp = df[(df['item'] == select_item) & (df['country'] == select_country)]\n",
    "df_plot = df_temp[\"value\"]\n",
    "df_plot.index = df_temp[\"date\"]\n"
   ]
  },
  {
   "cell_type": "code",
   "execution_count": 30,
   "id": "e5819587-371b-4f0e-9a5a-fc118bc79fb7",
   "metadata": {},
   "outputs": [
    {
     "data": {
      "text/plain": [
       "<AxesSubplot:xlabel='date'>"
      ]
     },
     "execution_count": 30,
     "metadata": {},
     "output_type": "execute_result"
    },
    {
     "data": {
      "image/png": "[encoded data removed]",
      "text/plain": [
       "<Figure size 432x288 with 1 Axes>"
      ]
     },
     "metadata": {
      "needs_background": "light"
     },
     "output_type": "display_data"
    }
   ],
   "source": [
    "df_plot.plot()"
   ]
  },
  {
   "cell_type": "code",
   "execution_count": null,
   "id": "95bf2ef5-893f-4b02-8e6f-f25c3561a486",
   "metadata": {},
   "outputs": [],
   "source": []
  },
  {
   "cell_type": "code",
   "execution_count": null,
   "id": "93109dda-0734-4b5b-a247-246146160cc3",
   "metadata": {},
   "outputs": [],
   "source": []
  }
 ],
 "metadata": {
  "kernelspec": {
   "display_name": "Python 3 (ipykernel)",
   "language": "python",
   "name": "python3"
  },
  "language_info": {
   "codemirror_mode": {
    "name": "ipython",
    "version": 3
   },
   "file_extension": ".py",
   "mimetype": "text/x-python",
   "name": "python",
   "nbconvert_exporter": "python",
   "pygments_lexer": "ipython3",
   "version": "3.8.8"
  }
 },
 "nbformat": 4,
 "nbformat_minor": 5
}
