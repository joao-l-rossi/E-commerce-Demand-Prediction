{
 "cells": [
  {
   "cell_type": "code",
   "execution_count": 1,
   "id": "6988ee1e-a4f1-4e5c-8ad0-0a91c20a3190",
   "metadata": {},
   "outputs": [],
   "source": [
    "import numpy as np\n",
    "import pandas as pd"
   ]
  },
  {
   "cell_type": "markdown",
   "id": "0bac9589-46ff-498c-a30c-4e30e792af02",
   "metadata": {},
   "source": [
    "## Items"
   ]
  },
  {
   "cell_type": "code",
   "execution_count": 2,
   "id": "ab8595e1-7739-4b03-9285-d1101f0d2074",
   "metadata": {},
   "outputs": [],
   "source": [
    "df_items = pd.read_csv(\"items.csv\", sep=\";\")"
   ]
  },
  {
   "cell_type": "code",
   "execution_count": 3,
   "id": "d9408c86-a0df-4dc9-b67f-9a3289715d82",
   "metadata": {},
   "outputs": [
    {
     "data": {
      "text/plain": [
       "(309128, 16)"
      ]
     },
     "execution_count": 3,
     "metadata": {},
     "output_type": "execute_result"
    }
   ],
   "source": [
    "df_items.shape"
   ]
  },
  {
   "cell_type": "code",
   "execution_count": 4,
   "id": "bf8ac570-bc8a-4d59-87f1-6891103eabc9",
   "metadata": {},
   "outputs": [
    {
     "data": {
      "text/plain": [
       "0"
      ]
     },
     "execution_count": 4,
     "metadata": {},
     "output_type": "execute_result"
    }
   ],
   "source": [
    "df_items.duplicated().sum()"
   ]
  },
  {
   "cell_type": "code",
   "execution_count": 5,
   "id": "ac412a71-cc3c-4ed2-be2b-eefc4a98cb3e",
   "metadata": {},
   "outputs": [
    {
     "data": {
      "text/html": [
       "<div>\n",
       "<style scoped>\n",
       "    .dataframe tbody tr th:only-of-type {\n",
       "        vertical-align: middle;\n",
       "    }\n",
       "\n",
       "    .dataframe tbody tr th {\n",
       "        vertical-align: top;\n",
       "    }\n",
       "\n",
       "    .dataframe thead th {\n",
       "        text-align: right;\n",
       "    }\n",
       "</style>\n",
       "<table border=\"1\" class=\"dataframe\">\n",
       "  <thead>\n",
       "    <tr style=\"text-align: right;\">\n",
       "      <th></th>\n",
       "      <th>item_code</th>\n",
       "      <th>item_name</th>\n",
       "      <th>style</th>\n",
       "      <th>brand_id</th>\n",
       "      <th>name</th>\n",
       "      <th>group0_id</th>\n",
       "      <th>group0</th>\n",
       "      <th>group1_id</th>\n",
       "      <th>group1</th>\n",
       "      <th>group2_id</th>\n",
       "      <th>group2</th>\n",
       "      <th>category</th>\n",
       "      <th>gender</th>\n",
       "      <th>age</th>\n",
       "      <th>color</th>\n",
       "      <th>size</th>\n",
       "    </tr>\n",
       "  </thead>\n",
       "  <tbody>\n",
       "    <tr>\n",
       "      <th>0</th>\n",
       "      <td>ZB00210807</td>\n",
       "      <td>Studio Metallic LS Top</td>\n",
       "      <td>51951501</td>\n",
       "      <td>86</td>\n",
       "      <td>Puma</td>\n",
       "      <td>200.0</td>\n",
       "      <td>Apparel</td>\n",
       "      <td>230.0</td>\n",
       "      <td>T-Shirts</td>\n",
       "      <td>233.0</td>\n",
       "      <td>Longsleeved (LS) shirts</td>\n",
       "      <td>fitness</td>\n",
       "      <td>women</td>\n",
       "      <td>adults</td>\n",
       "      <td>Black</td>\n",
       "      <td>L</td>\n",
       "    </tr>\n",
       "    <tr>\n",
       "      <th>1</th>\n",
       "      <td>ZB00210813</td>\n",
       "      <td>TRAIN TECH EVOKNIT SS TEE</td>\n",
       "      <td>52011101</td>\n",
       "      <td>86</td>\n",
       "      <td>Puma</td>\n",
       "      <td>200.0</td>\n",
       "      <td>Apparel</td>\n",
       "      <td>230.0</td>\n",
       "      <td>T-Shirts</td>\n",
       "      <td>0.0</td>\n",
       "      <td>NaN</td>\n",
       "      <td>fitness</td>\n",
       "      <td>men</td>\n",
       "      <td>adults</td>\n",
       "      <td>Black</td>\n",
       "      <td>S</td>\n",
       "    </tr>\n",
       "    <tr>\n",
       "      <th>2</th>\n",
       "      <td>ZB00210815</td>\n",
       "      <td>TRAIN TECH EVOKNIT SS TEE</td>\n",
       "      <td>52011123</td>\n",
       "      <td>86</td>\n",
       "      <td>Puma</td>\n",
       "      <td>200.0</td>\n",
       "      <td>Apparel</td>\n",
       "      <td>230.0</td>\n",
       "      <td>T-Shirts</td>\n",
       "      <td>0.0</td>\n",
       "      <td>NaN</td>\n",
       "      <td>fitness</td>\n",
       "      <td>men</td>\n",
       "      <td>adults</td>\n",
       "      <td>Orange</td>\n",
       "      <td>L</td>\n",
       "    </tr>\n",
       "    <tr>\n",
       "      <th>3</th>\n",
       "      <td>ZB00210821</td>\n",
       "      <td>TRAIN TECH EVOKNIT SS TEE</td>\n",
       "      <td>52011130</td>\n",
       "      <td>86</td>\n",
       "      <td>Puma</td>\n",
       "      <td>200.0</td>\n",
       "      <td>Apparel</td>\n",
       "      <td>230.0</td>\n",
       "      <td>T-Shirts</td>\n",
       "      <td>0.0</td>\n",
       "      <td>NaN</td>\n",
       "      <td>fitness</td>\n",
       "      <td>men</td>\n",
       "      <td>adults</td>\n",
       "      <td>Yellow</td>\n",
       "      <td>XL</td>\n",
       "    </tr>\n",
       "    <tr>\n",
       "      <th>4</th>\n",
       "      <td>ZB00261295</td>\n",
       "      <td>LIGA Baselayer Tee LS</td>\n",
       "      <td>655920-027</td>\n",
       "      <td>86</td>\n",
       "      <td>Puma</td>\n",
       "      <td>200.0</td>\n",
       "      <td>Apparel</td>\n",
       "      <td>230.0</td>\n",
       "      <td>T-Shirts</td>\n",
       "      <td>233.0</td>\n",
       "      <td>Longsleeved (LS) shirts</td>\n",
       "      <td>football</td>\n",
       "      <td>men</td>\n",
       "      <td>adults</td>\n",
       "      <td>Green</td>\n",
       "      <td>L</td>\n",
       "    </tr>\n",
       "  </tbody>\n",
       "</table>\n",
       "</div>"
      ],
      "text/plain": [
       "    item_code                  item_name       style  brand_id  name  \\\n",
       "0  ZB00210807     Studio Metallic LS Top    51951501        86  Puma   \n",
       "1  ZB00210813  TRAIN TECH EVOKNIT SS TEE    52011101        86  Puma   \n",
       "2  ZB00210815  TRAIN TECH EVOKNIT SS TEE    52011123        86  Puma   \n",
       "3  ZB00210821  TRAIN TECH EVOKNIT SS TEE    52011130        86  Puma   \n",
       "4  ZB00261295      LIGA Baselayer Tee LS  655920-027        86  Puma   \n",
       "\n",
       "   group0_id   group0  group1_id    group1  group2_id  \\\n",
       "0      200.0  Apparel      230.0  T-Shirts      233.0   \n",
       "1      200.0  Apparel      230.0  T-Shirts        0.0   \n",
       "2      200.0  Apparel      230.0  T-Shirts        0.0   \n",
       "3      200.0  Apparel      230.0  T-Shirts        0.0   \n",
       "4      200.0  Apparel      230.0  T-Shirts      233.0   \n",
       "\n",
       "                    group2  category gender     age   color size  \n",
       "0  Longsleeved (LS) shirts   fitness  women  adults   Black    L  \n",
       "1                      NaN   fitness    men  adults   Black    S  \n",
       "2                      NaN   fitness    men  adults  Orange    L  \n",
       "3                      NaN   fitness    men  adults  Yellow   XL  \n",
       "4  Longsleeved (LS) shirts  football    men  adults   Green    L  "
      ]
     },
     "execution_count": 5,
     "metadata": {},
     "output_type": "execute_result"
    }
   ],
   "source": [
    "df_items.head()"
   ]
  },
  {
   "cell_type": "code",
   "execution_count": 6,
   "id": "27c6b027-d881-4193-abcc-2fb295e079b9",
   "metadata": {},
   "outputs": [
    {
     "data": {
      "text/plain": [
       "item_code    0.0000\n",
       "item_name    0.0101\n",
       "style        0.0220\n",
       "brand_id     0.0000\n",
       "name         0.0000\n",
       "group0_id    0.0001\n",
       "group0       0.0027\n",
       "group1_id    0.0240\n",
       "group1       0.1416\n",
       "group2_id    0.0240\n",
       "group2       0.7678\n",
       "category     0.1289\n",
       "gender       0.0242\n",
       "age          0.0245\n",
       "color        0.1475\n",
       "size         0.0260\n",
       "dtype: float64"
      ]
     },
     "execution_count": 6,
     "metadata": {},
     "output_type": "execute_result"
    }
   ],
   "source": [
    "#% missing for each column\n",
    "round(df_items.isna().sum()/df_items.shape[0],4)"
   ]
  },
  {
   "cell_type": "code",
   "execution_count": 7,
   "id": "73c6e3df-27ee-432d-b23b-9704e9140f06",
   "metadata": {},
   "outputs": [
    {
     "data": {
      "text/html": [
       "<div>\n",
       "<style scoped>\n",
       "    .dataframe tbody tr th:only-of-type {\n",
       "        vertical-align: middle;\n",
       "    }\n",
       "\n",
       "    .dataframe tbody tr th {\n",
       "        vertical-align: top;\n",
       "    }\n",
       "\n",
       "    .dataframe thead th {\n",
       "        text-align: right;\n",
       "    }\n",
       "</style>\n",
       "<table border=\"1\" class=\"dataframe\">\n",
       "  <thead>\n",
       "    <tr style=\"text-align: right;\">\n",
       "      <th></th>\n",
       "      <th>group1_id</th>\n",
       "      <th>group1</th>\n",
       "    </tr>\n",
       "  </thead>\n",
       "  <tbody>\n",
       "    <tr>\n",
       "      <th>29</th>\n",
       "      <td>0.0</td>\n",
       "      <td>NaN</td>\n",
       "    </tr>\n",
       "    <tr>\n",
       "      <th>1410</th>\n",
       "      <td>NaN</td>\n",
       "      <td>NaN</td>\n",
       "    </tr>\n",
       "  </tbody>\n",
       "</table>\n",
       "</div>"
      ],
      "text/plain": [
       "      group1_id group1\n",
       "29          0.0    NaN\n",
       "1410        NaN    NaN"
      ]
     },
     "execution_count": 7,
     "metadata": {},
     "output_type": "execute_result"
    }
   ],
   "source": [
    "#checking if any missing values on group1 could be filled using group1_id (The answer is no)\n",
    "df_items[[\"group1_id\",\"group1\"]][df_items[\"group1\"].isna()].drop_duplicates().sort_values(\"group1_id\")"
   ]
  },
  {
   "cell_type": "code",
   "execution_count": 8,
   "id": "b6a1f649-41b4-4371-a946-a207d0ce05a4",
   "metadata": {},
   "outputs": [],
   "source": [
    "# group1 seems to be an interesting group "
   ]
  },
  {
   "cell_type": "code",
   "execution_count": 9,
   "id": "0c7633e2-e33b-4cfd-be28-ac3690b07fcb",
   "metadata": {},
   "outputs": [
    {
     "data": {
      "text/plain": [
       "Footwear     0.49\n",
       "Apparel      0.44\n",
       "Equipment    0.04\n",
       "Other        0.02\n",
       "Nutrition    0.00\n",
       "Services     0.00\n",
       "Name: group0, dtype: float64"
      ]
     },
     "execution_count": 9,
     "metadata": {},
     "output_type": "execute_result"
    }
   ],
   "source": [
    "#Proportion on each category of group0\n",
    "round(df_items[\"group0\"].value_counts()/df_items.shape[0],2)"
   ]
  },
  {
   "cell_type": "code",
   "execution_count": 10,
   "id": "e632da7c-f5a2-4193-8718-cb09f80b9b21",
   "metadata": {},
   "outputs": [
    {
     "data": {
      "text/plain": [
       "Running shoes      0.149\n",
       "Football shoes     0.131\n",
       "T-Shirts           0.128\n",
       "Other Footwear     0.114\n",
       "Pants              0.095\n",
       "Sweatshirts        0.052\n",
       "Jackets            0.036\n",
       "Jerseys            0.028\n",
       "Fitness Shoes      0.024\n",
       "Socks              0.022\n",
       "Gloves             0.015\n",
       "Bras               0.011\n",
       "Slides             0.007\n",
       "Tracksuits         0.006\n",
       "Guards             0.005\n",
       "Underwear          0.004\n",
       "Other Apparel      0.004\n",
       "Balls              0.004\n",
       "Caps               0.004\n",
       "Backpacks          0.003\n",
       "Bags               0.003\n",
       "Vests              0.002\n",
       "Other Equipment    0.002\n",
       "Beanies            0.002\n",
       "Training           0.001\n",
       "Glasses            0.001\n",
       "Skirts             0.001\n",
       "Gymsacks           0.001\n",
       "Sporttesters       0.001\n",
       "Dress              0.001\n",
       "Hydrate            0.000\n",
       "Lamps              0.000\n",
       "Sports gloves      0.000\n",
       "Other              0.000\n",
       "Other nutrition    0.000\n",
       "Earphones          0.000\n",
       "Bar                0.000\n",
       "Tank               0.000\n",
       "Pumps              0.000\n",
       "Football socks     0.000\n",
       "Name: group1, dtype: float64"
      ]
     },
     "execution_count": 10,
     "metadata": {},
     "output_type": "execute_result"
    }
   ],
   "source": [
    "#Proportion on each category of group1\n",
    "round(df_items[\"group1\"].value_counts()/df_items.shape[0],3)"
   ]
  },
  {
   "cell_type": "code",
   "execution_count": null,
   "id": "a25a913c-1ae0-4b5d-aed4-86f6c33da0b7",
   "metadata": {},
   "outputs": [],
   "source": []
  },
  {
   "cell_type": "code",
   "execution_count": 11,
   "id": "749f5d49-0fde-4235-b672-a641f427c19d",
   "metadata": {},
   "outputs": [
    {
     "data": {
      "text/plain": [
       "Shorts                     0.053\n",
       "With hood                  0.035\n",
       "Trail                      0.029\n",
       "Longsleeved (LS) shirts    0.026\n",
       "Indoor/Court (IC)          0.020\n",
       "Tank                       0.019\n",
       "Spikes                     0.016\n",
       "Football gloves            0.012\n",
       "Football socks             0.008\n",
       "Polo                       0.006\n",
       "Compression shirts         0.003\n",
       "43924                      0.002\n",
       "Compression pants          0.002\n",
       "Sleeveless (SL) shirts     0.001\n",
       "Fitness gloves             0.000\n",
       "Name: group2, dtype: float64"
      ]
     },
     "execution_count": 11,
     "metadata": {},
     "output_type": "execute_result"
    }
   ],
   "source": [
    "#Proportion on each category group2\n",
    "round(df_items[\"group2\"].value_counts()/df_items.shape[0],3)"
   ]
  },
  {
   "cell_type": "code",
   "execution_count": 12,
   "id": "eb3b93ff-5ab1-4951-93bb-9d476d77df2e",
   "metadata": {},
   "outputs": [
    {
     "data": {
      "text/plain": [
       "football     0.45\n",
       "running      0.23\n",
       "fitness      0.12\n",
       "lifestyle    0.07\n",
       "Name: category, dtype: float64"
      ]
     },
     "execution_count": 12,
     "metadata": {},
     "output_type": "execute_result"
    }
   ],
   "source": [
    "#Proportion on each category (category column)\n",
    "round(df_items[\"category\"].value_counts()/df_items.shape[0],2)"
   ]
  },
  {
   "cell_type": "code",
   "execution_count": null,
   "id": "c5e42538-d368-42b0-9d5e-1a9f676d198c",
   "metadata": {},
   "outputs": [],
   "source": []
  },
  {
   "cell_type": "code",
   "execution_count": null,
   "id": "f1f92af3-6479-4e85-a203-bd575f5d88b0",
   "metadata": {},
   "outputs": [],
   "source": []
  },
  {
   "cell_type": "markdown",
   "id": "6ba03fb3-798e-4657-b397-a4c87f9445a9",
   "metadata": {},
   "source": [
    "## Orders"
   ]
  },
  {
   "cell_type": "code",
   "execution_count": 13,
   "id": "e79fc9a6-edfc-471c-b941-6708c1370d6e",
   "metadata": {},
   "outputs": [],
   "source": [
    "df_orders = pd.read_csv(\"orders.csv\", sep=\";\")"
   ]
  },
  {
   "cell_type": "code",
   "execution_count": 14,
   "id": "aaf3c844-5741-496d-addf-cb9ba52d1466",
   "metadata": {},
   "outputs": [
    {
     "data": {
      "text/html": [
       "<div>\n",
       "<style scoped>\n",
       "    .dataframe tbody tr th:only-of-type {\n",
       "        vertical-align: middle;\n",
       "    }\n",
       "\n",
       "    .dataframe tbody tr th {\n",
       "        vertical-align: top;\n",
       "    }\n",
       "\n",
       "    .dataframe thead th {\n",
       "        text-align: right;\n",
       "    }\n",
       "</style>\n",
       "<table border=\"1\" class=\"dataframe\">\n",
       "  <thead>\n",
       "    <tr style=\"text-align: right;\">\n",
       "      <th></th>\n",
       "      <th>order_id</th>\n",
       "      <th>date</th>\n",
       "      <th>payment</th>\n",
       "      <th>item_code</th>\n",
       "      <th>quantity</th>\n",
       "      <th>gift_quantity</th>\n",
       "      <th>unit_price_vat_excl</th>\n",
       "      <th>unit_cogs</th>\n",
       "      <th>unit_rrp_vat_excl</th>\n",
       "      <th>department</th>\n",
       "      <th>channel</th>\n",
       "      <th>owner</th>\n",
       "      <th>site</th>\n",
       "      <th>CreatedAt</th>\n",
       "    </tr>\n",
       "  </thead>\n",
       "  <tbody>\n",
       "    <tr>\n",
       "      <th>0</th>\n",
       "      <td>2000093387</td>\n",
       "      <td>2020-04-24 00:00:00</td>\n",
       "      <td>GOPAY_CARD</td>\n",
       "      <td>S101</td>\n",
       "      <td>1</td>\n",
       "      <td>NaN</td>\n",
       "      <td>3.506048</td>\n",
       "      <td>0.000000</td>\n",
       "      <td>3.496395</td>\n",
       "      <td>E-COMMER</td>\n",
       "      <td>RUN.huC</td>\n",
       "      <td>RUN.huO</td>\n",
       "      <td>top4running.hu</td>\n",
       "      <td>2020-04-24 21:50:00</td>\n",
       "    </tr>\n",
       "    <tr>\n",
       "      <th>1</th>\n",
       "      <td>2000093387</td>\n",
       "      <td>2020-04-24 00:00:00</td>\n",
       "      <td>GOPAY_CARD</td>\n",
       "      <td>S113</td>\n",
       "      <td>1</td>\n",
       "      <td>NaN</td>\n",
       "      <td>-0.705913</td>\n",
       "      <td>0.000000</td>\n",
       "      <td>-0.717209</td>\n",
       "      <td>E-COMMER</td>\n",
       "      <td>RUN.huC</td>\n",
       "      <td>RUN.huO</td>\n",
       "      <td>top4running.hu</td>\n",
       "      <td>2020-04-24 21:50:00</td>\n",
       "    </tr>\n",
       "    <tr>\n",
       "      <th>2</th>\n",
       "      <td>2000093388</td>\n",
       "      <td>2020-04-24 00:00:00</td>\n",
       "      <td>COD</td>\n",
       "      <td>ZB00089178</td>\n",
       "      <td>1</td>\n",
       "      <td>NaN</td>\n",
       "      <td>5.829845</td>\n",
       "      <td>2.209302</td>\n",
       "      <td>6.472868</td>\n",
       "      <td>E-COMMER</td>\n",
       "      <td>FTB.czC</td>\n",
       "      <td>FTB.czO</td>\n",
       "      <td>11teamsports.cz</td>\n",
       "      <td>2020-04-24 21:45:00</td>\n",
       "    </tr>\n",
       "    <tr>\n",
       "      <th>3</th>\n",
       "      <td>2000093388</td>\n",
       "      <td>2020-04-24 00:00:00</td>\n",
       "      <td>COD</td>\n",
       "      <td>ZB00138060</td>\n",
       "      <td>1</td>\n",
       "      <td>NaN</td>\n",
       "      <td>5.829845</td>\n",
       "      <td>2.209302</td>\n",
       "      <td>6.472868</td>\n",
       "      <td>E-COMMER</td>\n",
       "      <td>FTB.czC</td>\n",
       "      <td>FTB.czO</td>\n",
       "      <td>11teamsports.cz</td>\n",
       "      <td>2020-04-24 21:45:00</td>\n",
       "    </tr>\n",
       "    <tr>\n",
       "      <th>4</th>\n",
       "      <td>2000093388</td>\n",
       "      <td>2020-04-24 00:00:00</td>\n",
       "      <td>COD</td>\n",
       "      <td>ZB00015664</td>\n",
       "      <td>1</td>\n",
       "      <td>NaN</td>\n",
       "      <td>19.379845</td>\n",
       "      <td>18.731008</td>\n",
       "      <td>32.015504</td>\n",
       "      <td>E-COMMER</td>\n",
       "      <td>FTB.czC</td>\n",
       "      <td>FTB.czO</td>\n",
       "      <td>11teamsports.cz</td>\n",
       "      <td>2020-04-24 21:45:00</td>\n",
       "    </tr>\n",
       "  </tbody>\n",
       "</table>\n",
       "</div>"
      ],
      "text/plain": [
       "     order_id                 date     payment   item_code  quantity  \\\n",
       "0  2000093387  2020-04-24 00:00:00  GOPAY_CARD        S101         1   \n",
       "1  2000093387  2020-04-24 00:00:00  GOPAY_CARD        S113         1   \n",
       "2  2000093388  2020-04-24 00:00:00         COD  ZB00089178         1   \n",
       "3  2000093388  2020-04-24 00:00:00         COD  ZB00138060         1   \n",
       "4  2000093388  2020-04-24 00:00:00         COD  ZB00015664         1   \n",
       "\n",
       "   gift_quantity  unit_price_vat_excl  unit_cogs  unit_rrp_vat_excl  \\\n",
       "0            NaN             3.506048   0.000000           3.496395   \n",
       "1            NaN            -0.705913   0.000000          -0.717209   \n",
       "2            NaN             5.829845   2.209302           6.472868   \n",
       "3            NaN             5.829845   2.209302           6.472868   \n",
       "4            NaN            19.379845  18.731008          32.015504   \n",
       "\n",
       "  department  channel    owner             site            CreatedAt  \n",
       "0   E-COMMER  RUN.huC  RUN.huO   top4running.hu  2020-04-24 21:50:00  \n",
       "1   E-COMMER  RUN.huC  RUN.huO   top4running.hu  2020-04-24 21:50:00  \n",
       "2   E-COMMER  FTB.czC  FTB.czO  11teamsports.cz  2020-04-24 21:45:00  \n",
       "3   E-COMMER  FTB.czC  FTB.czO  11teamsports.cz  2020-04-24 21:45:00  \n",
       "4   E-COMMER  FTB.czC  FTB.czO  11teamsports.cz  2020-04-24 21:45:00  "
      ]
     },
     "execution_count": 14,
     "metadata": {},
     "output_type": "execute_result"
    }
   ],
   "source": [
    "df_orders.head()"
   ]
  },
  {
   "cell_type": "code",
   "execution_count": null,
   "id": "df4caa43-359f-476e-b566-15861ac31226",
   "metadata": {},
   "outputs": [],
   "source": []
  },
  {
   "cell_type": "code",
   "execution_count": 15,
   "id": "e1e92b03-0198-47cf-a8bc-b616ea8d69aa",
   "metadata": {},
   "outputs": [
    {
     "data": {
      "text/plain": [
       "(2128524, 14)"
      ]
     },
     "execution_count": 15,
     "metadata": {},
     "output_type": "execute_result"
    }
   ],
   "source": [
    "df_orders.shape"
   ]
  },
  {
   "cell_type": "code",
   "execution_count": 16,
   "id": "922e1d73-9bad-437b-9b7f-c4730b5b3501",
   "metadata": {},
   "outputs": [
    {
     "data": {
      "text/plain": [
       "Index(['order_id', 'date', 'payment', 'item_code', 'quantity', 'gift_quantity',\n",
       "       'unit_price_vat_excl', 'unit_cogs', 'unit_rrp_vat_excl', 'department',\n",
       "       'channel', 'owner', 'site', 'CreatedAt'],\n",
       "      dtype='object')"
      ]
     },
     "execution_count": 16,
     "metadata": {},
     "output_type": "execute_result"
    }
   ],
   "source": [
    "df_orders.columns"
   ]
  },
  {
   "cell_type": "code",
   "execution_count": 17,
   "id": "4573dde6-c4db-4b68-97a9-555a02707acb",
   "metadata": {},
   "outputs": [
    {
     "data": {
      "text/plain": [
       "order_id               0.0000\n",
       "date                   0.0000\n",
       "payment                0.0003\n",
       "item_code              0.0000\n",
       "quantity               0.0000\n",
       "gift_quantity          0.9951\n",
       "unit_price_vat_excl    0.0000\n",
       "unit_cogs              0.0000\n",
       "unit_rrp_vat_excl      0.0000\n",
       "department             0.0000\n",
       "channel                0.0000\n",
       "owner                  0.0000\n",
       "site                   0.0000\n",
       "CreatedAt              0.0000\n",
       "dtype: float64"
      ]
     },
     "execution_count": 17,
     "metadata": {},
     "output_type": "execute_result"
    }
   ],
   "source": [
    "#% missing for each column\n",
    "round(df_orders.isna().sum()/df_orders.shape[0],4)"
   ]
  },
  {
   "cell_type": "code",
   "execution_count": null,
   "id": "df24ce1d-bf1a-439f-b5a2-2a731b030e51",
   "metadata": {},
   "outputs": [],
   "source": []
  },
  {
   "cell_type": "code",
   "execution_count": 18,
   "id": "12b8cb02-b7fa-4bb4-8f26-fec5751cec39",
   "metadata": {},
   "outputs": [
    {
     "data": {
      "text/plain": [
       "11teamsports.cz    0.183\n",
       "11teamsports.sk    0.097\n",
       "top4running.cz     0.096\n",
       "11teamsports.ro    0.095\n",
       "11teamsports.hu    0.083\n",
       "top4running.sk     0.048\n",
       "top4running.de     0.040\n",
       "top4running.hu     0.036\n",
       "top4running.es     0.031\n",
       "top4fitness.cz     0.024\n",
       "top4sport.cz       0.023\n",
       "top4fitness.sk     0.021\n",
       "top4running.fr     0.021\n",
       "top4running.ro     0.021\n",
       "11teamsports.es    0.017\n",
       "top4fitness.hu     0.013\n",
       "11teamsports.hr    0.012\n",
       "top4fitness.ro     0.012\n",
       "top4running.it     0.012\n",
       "top4football.fr    0.011\n",
       "Name: site, dtype: float64"
      ]
     },
     "execution_count": 18,
     "metadata": {},
     "output_type": "execute_result"
    }
   ],
   "source": [
    "#proportion of items sold in each site\n",
    "round(df_orders[\"site\"].value_counts()/df_orders.shape[0],3).head(20)"
   ]
  },
  {
   "cell_type": "code",
   "execution_count": 19,
   "id": "455f45d1-1c5c-4e59-802e-767586aea3d7",
   "metadata": {},
   "outputs": [
    {
     "data": {
      "text/plain": [
       "3.38262570682783e-05"
      ]
     },
     "execution_count": 19,
     "metadata": {},
     "output_type": "execute_result"
    }
   ],
   "source": [
    "#Proportion of observation with \"other\" site\n",
    "df_orders[df_orders[\"site\"] == \"other\"].shape[0]/df_orders.shape[0]"
   ]
  },
  {
   "cell_type": "code",
   "execution_count": null,
   "id": "5b884c85-6e9e-4a50-9e91-736b1cca8870",
   "metadata": {},
   "outputs": [],
   "source": []
  },
  {
   "cell_type": "code",
   "execution_count": 20,
   "id": "06d3a83e-f91e-400e-92b3-faf2cc6f50bf",
   "metadata": {},
   "outputs": [],
   "source": [
    "def prepareT4Sdata(df_items, df_orders, columns_to_keep):\n",
    "    \"\"\"\n",
    "    Create the country column, merge both tables (items and into 1\n",
    "    \"\"\"\n",
    "    df_orders['site'] = df_orders['site'].replace({'other': 'other.other'})\n",
    "    df_orders[\"country\"] = [x.split(\".\")[1] for x in df_orders[\"site\"]] #getting country and remaping it\n",
    "    df_orders[\"country\"] = df_orders[\"country\"].map({'cz':'Czech Republic', 'sk':'Slovakia', 'ro':'Romania', 'hu':'Hungary', 'de':'Germany', 'es':'Spain', 'hr': 'Croatia', 'fr':'France', 'it': 'Italy','at':'Austria', \"other\":\"Other\"})\n",
    "    df_orders[\"type\"] = [x.split(\".\")[0] for x in df_orders[\"channel\"]]\n",
    "    df_orders.drop(columns = [\"gift_quantity\"], axis = 1) #gift_quantity is missing for the vast majority so I will drop it\n",
    "    df_orders = df_orders[df_orders[\"unit_price_vat_excl\"] > 2] \n",
    "    df_items[\"group0\"] = df_items[\"group0\"].apply(str)\n",
    "    df_items[\"group1\"] = df_items[\"group1\"].apply(str)\n",
    "    df_items[\"group2\"] = df_items[\"group2\"].apply(str)\n",
    "    \n",
    "    df = pd.merge(df_orders, df_items, on='item_code')\n",
    "    return df[columns_to_keep]                                               \n",
    "                                                    "
   ]
  },
  {
   "cell_type": "code",
   "execution_count": 21,
   "id": "de5f1162-8998-4f52-9066-e175cc7b0de2",
   "metadata": {},
   "outputs": [],
   "source": [
    "columns_to_keep = [\"order_id\", \"date\", \"item_code\", \"unit_price_vat_excl\", \"quantity\", \"department\", \"item_name\", \"name\", \"group1\", \"country\"]\n",
    "df = prepareT4Sdata(df_items, df_orders, columns_to_keep)"
   ]
  },
  {
   "cell_type": "code",
   "execution_count": 22,
   "id": "c81c13f0-2712-4ae1-bc3e-15337632cecf",
   "metadata": {},
   "outputs": [],
   "source": [
    "df = df[df.date != max(df.date)] #last day seems to have incomplete data"
   ]
  },
  {
   "cell_type": "code",
   "execution_count": 23,
   "id": "efe022ad-75a7-4d5d-9dc0-76abde001b52",
   "metadata": {},
   "outputs": [
    {
     "data": {
      "text/html": [
       "<div>\n",
       "<style scoped>\n",
       "    .dataframe tbody tr th:only-of-type {\n",
       "        vertical-align: middle;\n",
       "    }\n",
       "\n",
       "    .dataframe tbody tr th {\n",
       "        vertical-align: top;\n",
       "    }\n",
       "\n",
       "    .dataframe thead th {\n",
       "        text-align: right;\n",
       "    }\n",
       "</style>\n",
       "<table border=\"1\" class=\"dataframe\">\n",
       "  <thead>\n",
       "    <tr style=\"text-align: right;\">\n",
       "      <th></th>\n",
       "      <th>order_id</th>\n",
       "      <th>date</th>\n",
       "      <th>item_code</th>\n",
       "      <th>unit_price_vat_excl</th>\n",
       "      <th>quantity</th>\n",
       "      <th>department</th>\n",
       "      <th>item_name</th>\n",
       "      <th>name</th>\n",
       "      <th>group1</th>\n",
       "      <th>country</th>\n",
       "    </tr>\n",
       "  </thead>\n",
       "  <tbody>\n",
       "    <tr>\n",
       "      <th>0</th>\n",
       "      <td>2000093387</td>\n",
       "      <td>2020-04-24 00:00:00</td>\n",
       "      <td>S101</td>\n",
       "      <td>3.506048</td>\n",
       "      <td>1</td>\n",
       "      <td>E-COMMER</td>\n",
       "      <td>Dopravné</td>\n",
       "      <td>- žádný výrobce -</td>\n",
       "      <td>nan</td>\n",
       "      <td>Hungary</td>\n",
       "    </tr>\n",
       "    <tr>\n",
       "      <th>1</th>\n",
       "      <td>2000093391</td>\n",
       "      <td>2020-04-24 00:00:00</td>\n",
       "      <td>S101</td>\n",
       "      <td>3.737403</td>\n",
       "      <td>1</td>\n",
       "      <td>E-COMMER</td>\n",
       "      <td>Dopravné</td>\n",
       "      <td>- žádný výrobce -</td>\n",
       "      <td>nan</td>\n",
       "      <td>Slovakia</td>\n",
       "    </tr>\n",
       "    <tr>\n",
       "      <th>2</th>\n",
       "      <td>2000093394</td>\n",
       "      <td>2020-04-24 00:00:00</td>\n",
       "      <td>S101</td>\n",
       "      <td>3.171318</td>\n",
       "      <td>1</td>\n",
       "      <td>E-COMMER</td>\n",
       "      <td>Dopravné</td>\n",
       "      <td>- žádný výrobce -</td>\n",
       "      <td>nan</td>\n",
       "      <td>Czech Republic</td>\n",
       "    </tr>\n",
       "    <tr>\n",
       "      <th>3</th>\n",
       "      <td>2000093395</td>\n",
       "      <td>2020-04-24 00:00:00</td>\n",
       "      <td>S101</td>\n",
       "      <td>2.850775</td>\n",
       "      <td>1</td>\n",
       "      <td>E-COMMER</td>\n",
       "      <td>Dopravné</td>\n",
       "      <td>- žádný výrobce -</td>\n",
       "      <td>nan</td>\n",
       "      <td>Czech Republic</td>\n",
       "    </tr>\n",
       "    <tr>\n",
       "      <th>4</th>\n",
       "      <td>2000093400</td>\n",
       "      <td>2020-04-24 00:00:00</td>\n",
       "      <td>S101</td>\n",
       "      <td>3.336224</td>\n",
       "      <td>1</td>\n",
       "      <td>E-COMMER</td>\n",
       "      <td>Dopravné</td>\n",
       "      <td>- žádný výrobce -</td>\n",
       "      <td>nan</td>\n",
       "      <td>Romania</td>\n",
       "    </tr>\n",
       "  </tbody>\n",
       "</table>\n",
       "</div>"
      ],
      "text/plain": [
       "     order_id                 date item_code  unit_price_vat_excl  quantity  \\\n",
       "0  2000093387  2020-04-24 00:00:00      S101             3.506048         1   \n",
       "1  2000093391  2020-04-24 00:00:00      S101             3.737403         1   \n",
       "2  2000093394  2020-04-24 00:00:00      S101             3.171318         1   \n",
       "3  2000093395  2020-04-24 00:00:00      S101             2.850775         1   \n",
       "4  2000093400  2020-04-24 00:00:00      S101             3.336224         1   \n",
       "\n",
       "  department item_name               name group1         country  \n",
       "0   E-COMMER  Dopravné  - žádný výrobce -    nan         Hungary  \n",
       "1   E-COMMER  Dopravné  - žádný výrobce -    nan        Slovakia  \n",
       "2   E-COMMER  Dopravné  - žádný výrobce -    nan  Czech Republic  \n",
       "3   E-COMMER  Dopravné  - žádný výrobce -    nan  Czech Republic  \n",
       "4   E-COMMER  Dopravné  - žádný výrobce -    nan         Romania  "
      ]
     },
     "execution_count": 23,
     "metadata": {},
     "output_type": "execute_result"
    }
   ],
   "source": [
    "df.head()"
   ]
  },
  {
   "cell_type": "code",
   "execution_count": 24,
   "id": "e9bf594b-d48e-4099-887a-f5ef68044d88",
   "metadata": {},
   "outputs": [
    {
     "data": {
      "text/plain": [
       "FTB         0.384\n",
       "RUN         0.340\n",
       "11TS        0.143\n",
       "FIT         0.097\n",
       "Sport       0.015\n",
       "STR         0.010\n",
       "T4S         0.010\n",
       "TINT        0.001\n",
       "ECOMothC    0.000\n",
       "idealo      0.000\n",
       "Name: type, dtype: float64"
      ]
     },
     "execution_count": 24,
     "metadata": {},
     "output_type": "execute_result"
    }
   ],
   "source": [
    "round(df_orders[\"type\"].value_counts()/df_orders.shape[0],3)"
   ]
  },
  {
   "cell_type": "code",
   "execution_count": 25,
   "id": "17513e75-4e71-4be6-a7d8-ab4aa6030e9a",
   "metadata": {},
   "outputs": [],
   "source": [
    "df.to_csv(\"item_orders.csv\", index = False)"
   ]
  },
  {
   "cell_type": "code",
   "execution_count": null,
   "id": "689d2c90-bac5-4475-bdd1-047af67ddca2",
   "metadata": {},
   "outputs": [],
   "source": []
  },
  {
   "cell_type": "code",
   "execution_count": null,
   "id": "d5aa01db-8fa7-4390-b504-bc441813920e",
   "metadata": {},
   "outputs": [],
   "source": []
  },
  {
   "cell_type": "code",
   "execution_count": null,
   "id": "354c0680-6bf4-4ba5-a20b-6ff0544d727c",
   "metadata": {},
   "outputs": [],
   "source": []
  },
  {
   "cell_type": "code",
   "execution_count": null,
   "id": "9747f871-7193-4c50-b5de-b766dd0e4015",
   "metadata": {},
   "outputs": [],
   "source": []
  }
 ],
 "metadata": {
  "kernelspec": {
   "display_name": "Python 3 (ipykernel)",
   "language": "python",
   "name": "python3"
  },
  "language_info": {
   "codemirror_mode": {
    "name": "ipython",
    "version": 3
   },
   "file_extension": ".py",
   "mimetype": "text/x-python",
   "name": "python",
   "nbconvert_exporter": "python",
   "pygments_lexer": "ipython3",
   "version": "3.8.8"
  }
 },
 "nbformat": 4,
 "nbformat_minor": 5
}
