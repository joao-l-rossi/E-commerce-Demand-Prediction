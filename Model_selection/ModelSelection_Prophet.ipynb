{
 "cells": [
  {
   "cell_type": "code",
   "execution_count": 1,
   "id": "8cc0a44a-1a59-43fe-b887-b701fadf1776",
   "metadata": {},
   "outputs": [],
   "source": [
    "import itertools\n",
    "import pandas as pd\n",
    "import numpy as np\n",
    "from matplotlib import pyplot as plt\n",
    "from prophet import Prophet\n",
    "from prophet.diagnostics import cross_validation, performance_metrics\n",
    "from sklearn.metrics import mean_absolute_percentage_error, mean_squared_error, mean_absolute_error"
   ]
  },
  {
   "cell_type": "code",
   "execution_count": null,
   "id": "515231ff-4eb1-4abb-bfe8-d9ff09891003",
   "metadata": {},
   "outputs": [],
   "source": []
  },
  {
   "cell_type": "code",
   "execution_count": 2,
   "id": "35d8133a-921c-49eb-9282-4f13b6ac94fa",
   "metadata": {},
   "outputs": [],
   "source": [
    "df = pd.read_csv(\"Daily_all.csv\", index_col = \"date\")"
   ]
  },
  {
   "cell_type": "code",
   "execution_count": 3,
   "id": "a50c0f47-a600-4943-82ae-a614d1f03703",
   "metadata": {},
   "outputs": [],
   "source": [
    "test_size = 30\n",
    "split_point = int(df.shape[0]-test_size)"
   ]
  },
  {
   "cell_type": "code",
   "execution_count": 4,
   "id": "79a2d09d-96ab-4299-9c24-380eb5f40570",
   "metadata": {},
   "outputs": [],
   "source": [
    "df_train = df.iloc[0:split_point,:]\n",
    "df_test = df.iloc[(split_point):df.shape[0],:]"
   ]
  },
  {
   "cell_type": "code",
   "execution_count": 5,
   "id": "0d2a2ed9-71cf-42bb-9af4-b881da27d63c",
   "metadata": {},
   "outputs": [
    {
     "data": {
      "text/html": [
       "<div>\n",
       "<style scoped>\n",
       "    .dataframe tbody tr th:only-of-type {\n",
       "        vertical-align: middle;\n",
       "    }\n",
       "\n",
       "    .dataframe tbody tr th {\n",
       "        vertical-align: top;\n",
       "    }\n",
       "\n",
       "    .dataframe thead th {\n",
       "        text-align: right;\n",
       "    }\n",
       "</style>\n",
       "<table border=\"1\" class=\"dataframe\">\n",
       "  <thead>\n",
       "    <tr style=\"text-align: right;\">\n",
       "      <th></th>\n",
       "      <th>quantity</th>\n",
       "    </tr>\n",
       "    <tr>\n",
       "      <th>date</th>\n",
       "      <th></th>\n",
       "    </tr>\n",
       "  </thead>\n",
       "  <tbody>\n",
       "    <tr>\n",
       "      <th>2021-12-14</th>\n",
       "      <td>5898</td>\n",
       "    </tr>\n",
       "  </tbody>\n",
       "</table>\n",
       "</div>"
      ],
      "text/plain": [
       "            quantity\n",
       "date                \n",
       "2021-12-14      5898"
      ]
     },
     "execution_count": 5,
     "metadata": {},
     "output_type": "execute_result"
    }
   ],
   "source": [
    "df_train.tail(1)"
   ]
  },
  {
   "cell_type": "code",
   "execution_count": 6,
   "id": "b9f3c6d0-fcba-4f23-98ea-d70ddb21ece6",
   "metadata": {},
   "outputs": [
    {
     "data": {
      "text/html": [
       "<div>\n",
       "<style scoped>\n",
       "    .dataframe tbody tr th:only-of-type {\n",
       "        vertical-align: middle;\n",
       "    }\n",
       "\n",
       "    .dataframe tbody tr th {\n",
       "        vertical-align: top;\n",
       "    }\n",
       "\n",
       "    .dataframe thead th {\n",
       "        text-align: right;\n",
       "    }\n",
       "</style>\n",
       "<table border=\"1\" class=\"dataframe\">\n",
       "  <thead>\n",
       "    <tr style=\"text-align: right;\">\n",
       "      <th></th>\n",
       "      <th>quantity</th>\n",
       "    </tr>\n",
       "    <tr>\n",
       "      <th>date</th>\n",
       "      <th></th>\n",
       "    </tr>\n",
       "  </thead>\n",
       "  <tbody>\n",
       "    <tr>\n",
       "      <th>2021-12-15</th>\n",
       "      <td>5845</td>\n",
       "    </tr>\n",
       "  </tbody>\n",
       "</table>\n",
       "</div>"
      ],
      "text/plain": [
       "            quantity\n",
       "date                \n",
       "2021-12-15      5845"
      ]
     },
     "execution_count": 6,
     "metadata": {},
     "output_type": "execute_result"
    }
   ],
   "source": [
    "df_test.head(1)"
   ]
  },
  {
   "cell_type": "code",
   "execution_count": 7,
   "id": "d7f7dc0d-f5ff-4325-a197-cd9550ef10f5",
   "metadata": {},
   "outputs": [
    {
     "data": {
      "image/png": "[encoded data removed]",
      "text/plain": [
       "<Figure size 432x288 with 1 Axes>"
      ]
     },
     "metadata": {
      "needs_background": "light"
     },
     "output_type": "display_data"
    }
   ],
   "source": [
    "df_train.plot();"
   ]
  },
  {
   "cell_type": "code",
   "execution_count": 8,
   "id": "b75917b0-d1ec-49ba-b486-1853e88605e6",
   "metadata": {},
   "outputs": [],
   "source": [
    "df_prophet = df_train.reset_index(drop=False)\n",
    "df_prophet.columns = [\"ds\", \"y\"]"
   ]
  },
  {
   "cell_type": "code",
   "execution_count": 9,
   "id": "15d4ee22-2ba5-44f2-b30d-c0c9ff4dc272",
   "metadata": {},
   "outputs": [
    {
     "data": {
      "text/html": [
       "<div>\n",
       "<style scoped>\n",
       "    .dataframe tbody tr th:only-of-type {\n",
       "        vertical-align: middle;\n",
       "    }\n",
       "\n",
       "    .dataframe tbody tr th {\n",
       "        vertical-align: top;\n",
       "    }\n",
       "\n",
       "    .dataframe thead th {\n",
       "        text-align: right;\n",
       "    }\n",
       "</style>\n",
       "<table border=\"1\" class=\"dataframe\">\n",
       "  <thead>\n",
       "    <tr style=\"text-align: right;\">\n",
       "      <th></th>\n",
       "      <th>ds</th>\n",
       "      <th>y</th>\n",
       "    </tr>\n",
       "  </thead>\n",
       "  <tbody>\n",
       "    <tr>\n",
       "      <th>922</th>\n",
       "      <td>2021-12-10</td>\n",
       "      <td>4969</td>\n",
       "    </tr>\n",
       "    <tr>\n",
       "      <th>923</th>\n",
       "      <td>2021-12-11</td>\n",
       "      <td>4562</td>\n",
       "    </tr>\n",
       "    <tr>\n",
       "      <th>924</th>\n",
       "      <td>2021-12-12</td>\n",
       "      <td>5877</td>\n",
       "    </tr>\n",
       "    <tr>\n",
       "      <th>925</th>\n",
       "      <td>2021-12-13</td>\n",
       "      <td>6103</td>\n",
       "    </tr>\n",
       "    <tr>\n",
       "      <th>926</th>\n",
       "      <td>2021-12-14</td>\n",
       "      <td>5898</td>\n",
       "    </tr>\n",
       "  </tbody>\n",
       "</table>\n",
       "</div>"
      ],
      "text/plain": [
       "             ds     y\n",
       "922  2021-12-10  4969\n",
       "923  2021-12-11  4562\n",
       "924  2021-12-12  5877\n",
       "925  2021-12-13  6103\n",
       "926  2021-12-14  5898"
      ]
     },
     "execution_count": 9,
     "metadata": {},
     "output_type": "execute_result"
    }
   ],
   "source": [
    "df_prophet.tail(5)"
   ]
  },
  {
   "cell_type": "markdown",
   "id": "3ea9e7dd-05a1-42de-a241-e5fc4cda811a",
   "metadata": {},
   "source": [
    "### Fitting baseline model"
   ]
  },
  {
   "cell_type": "code",
   "execution_count": 10,
   "id": "d1e804ba-9788-4aeb-8a6a-591a9bc5874f",
   "metadata": {},
   "outputs": [
    {
     "data": {
      "text/plain": [
       "<prophet.forecaster.Prophet at 0x7f12db8ba1f0>"
      ]
     },
     "execution_count": 10,
     "metadata": {},
     "output_type": "execute_result"
    }
   ],
   "source": [
    "model = Prophet(n_changepoints=16, seasonality_mode = \"additive\", changepoint_prior_scale=0.05, seasonality_prior_scale=10.0, daily_seasonality = False)\n",
    "model.fit(df_prophet)"
   ]
  },
  {
   "cell_type": "code",
   "execution_count": 11,
   "id": "9a64b1b7-08e8-4653-adce-772623e1d70d",
   "metadata": {},
   "outputs": [],
   "source": [
    "future = model.make_future_dataframe(periods=30, include_history=False)"
   ]
  },
  {
   "cell_type": "code",
   "execution_count": 12,
   "id": "3538d8fe-8bba-4024-8bfd-5c8aae5aec2a",
   "metadata": {},
   "outputs": [
    {
     "data": {
      "text/html": [
       "<div>\n",
       "<style scoped>\n",
       "    .dataframe tbody tr th:only-of-type {\n",
       "        vertical-align: middle;\n",
       "    }\n",
       "\n",
       "    .dataframe tbody tr th {\n",
       "        vertical-align: top;\n",
       "    }\n",
       "\n",
       "    .dataframe thead th {\n",
       "        text-align: right;\n",
       "    }\n",
       "</style>\n",
       "<table border=\"1\" class=\"dataframe\">\n",
       "  <thead>\n",
       "    <tr style=\"text-align: right;\">\n",
       "      <th></th>\n",
       "      <th>ds</th>\n",
       "      <th>yhat</th>\n",
       "      <th>yhat_lower</th>\n",
       "      <th>yhat_upper</th>\n",
       "    </tr>\n",
       "  </thead>\n",
       "  <tbody>\n",
       "    <tr>\n",
       "      <th>0</th>\n",
       "      <td>2021-12-15</td>\n",
       "      <td>3641.956725</td>\n",
       "      <td>3170.204802</td>\n",
       "      <td>4154.982873</td>\n",
       "    </tr>\n",
       "    <tr>\n",
       "      <th>1</th>\n",
       "      <td>2021-12-16</td>\n",
       "      <td>3427.231339</td>\n",
       "      <td>2935.718053</td>\n",
       "      <td>3938.449264</td>\n",
       "    </tr>\n",
       "    <tr>\n",
       "      <th>2</th>\n",
       "      <td>2021-12-17</td>\n",
       "      <td>3260.783304</td>\n",
       "      <td>2752.393932</td>\n",
       "      <td>3735.204923</td>\n",
       "    </tr>\n",
       "    <tr>\n",
       "      <th>3</th>\n",
       "      <td>2021-12-18</td>\n",
       "      <td>2984.630419</td>\n",
       "      <td>2520.248494</td>\n",
       "      <td>3454.891408</td>\n",
       "    </tr>\n",
       "    <tr>\n",
       "      <th>4</th>\n",
       "      <td>2021-12-19</td>\n",
       "      <td>3346.944241</td>\n",
       "      <td>2869.957198</td>\n",
       "      <td>3854.867326</td>\n",
       "    </tr>\n",
       "    <tr>\n",
       "      <th>5</th>\n",
       "      <td>2021-12-20</td>\n",
       "      <td>3368.886146</td>\n",
       "      <td>2867.126821</td>\n",
       "      <td>3843.129431</td>\n",
       "    </tr>\n",
       "    <tr>\n",
       "      <th>6</th>\n",
       "      <td>2021-12-21</td>\n",
       "      <td>3140.302604</td>\n",
       "      <td>2643.848778</td>\n",
       "      <td>3621.233054</td>\n",
       "    </tr>\n",
       "    <tr>\n",
       "      <th>7</th>\n",
       "      <td>2021-12-22</td>\n",
       "      <td>3002.590193</td>\n",
       "      <td>2546.282433</td>\n",
       "      <td>3512.449139</td>\n",
       "    </tr>\n",
       "    <tr>\n",
       "      <th>8</th>\n",
       "      <td>2021-12-23</td>\n",
       "      <td>2841.632452</td>\n",
       "      <td>2373.543255</td>\n",
       "      <td>3311.303645</td>\n",
       "    </tr>\n",
       "    <tr>\n",
       "      <th>9</th>\n",
       "      <td>2021-12-24</td>\n",
       "      <td>2734.349777</td>\n",
       "      <td>2229.656036</td>\n",
       "      <td>3198.566324</td>\n",
       "    </tr>\n",
       "    <tr>\n",
       "      <th>10</th>\n",
       "      <td>2021-12-25</td>\n",
       "      <td>2521.641873</td>\n",
       "      <td>2054.261603</td>\n",
       "      <td>3010.009926</td>\n",
       "    </tr>\n",
       "    <tr>\n",
       "      <th>11</th>\n",
       "      <td>2021-12-26</td>\n",
       "      <td>2950.523460</td>\n",
       "      <td>2444.554463</td>\n",
       "      <td>3384.766131</td>\n",
       "    </tr>\n",
       "    <tr>\n",
       "      <th>12</th>\n",
       "      <td>2021-12-27</td>\n",
       "      <td>3040.982373</td>\n",
       "      <td>2565.966489</td>\n",
       "      <td>3503.256537</td>\n",
       "    </tr>\n",
       "    <tr>\n",
       "      <th>13</th>\n",
       "      <td>2021-12-28</td>\n",
       "      <td>2881.696695</td>\n",
       "      <td>2404.597930</td>\n",
       "      <td>3359.787677</td>\n",
       "    </tr>\n",
       "    <tr>\n",
       "      <th>14</th>\n",
       "      <td>2021-12-29</td>\n",
       "      <td>2812.920997</td>\n",
       "      <td>2289.292758</td>\n",
       "      <td>3293.175402</td>\n",
       "    </tr>\n",
       "    <tr>\n",
       "      <th>15</th>\n",
       "      <td>2021-12-30</td>\n",
       "      <td>2719.443400</td>\n",
       "      <td>2209.764888</td>\n",
       "      <td>3186.536045</td>\n",
       "    </tr>\n",
       "    <tr>\n",
       "      <th>16</th>\n",
       "      <td>2021-12-31</td>\n",
       "      <td>2677.154227</td>\n",
       "      <td>2215.573600</td>\n",
       "      <td>3178.749571</td>\n",
       "    </tr>\n",
       "    <tr>\n",
       "      <th>17</th>\n",
       "      <td>2022-01-01</td>\n",
       "      <td>2526.005444</td>\n",
       "      <td>2021.365047</td>\n",
       "      <td>3010.651535</td>\n",
       "    </tr>\n",
       "    <tr>\n",
       "      <th>18</th>\n",
       "      <td>2022-01-02</td>\n",
       "      <td>3012.161269</td>\n",
       "      <td>2516.779491</td>\n",
       "      <td>3509.081801</td>\n",
       "    </tr>\n",
       "    <tr>\n",
       "      <th>19</th>\n",
       "      <td>2022-01-03</td>\n",
       "      <td>3154.868836</td>\n",
       "      <td>2692.166053</td>\n",
       "      <td>3607.070758</td>\n",
       "    </tr>\n",
       "    <tr>\n",
       "      <th>20</th>\n",
       "      <td>2022-01-04</td>\n",
       "      <td>3042.185364</td>\n",
       "      <td>2571.433804</td>\n",
       "      <td>3540.060041</td>\n",
       "    </tr>\n",
       "    <tr>\n",
       "      <th>21</th>\n",
       "      <td>2022-01-05</td>\n",
       "      <td>3013.871774</td>\n",
       "      <td>2524.813730</td>\n",
       "      <td>3541.525720</td>\n",
       "    </tr>\n",
       "    <tr>\n",
       "      <th>22</th>\n",
       "      <td>2022-01-06</td>\n",
       "      <td>2954.354363</td>\n",
       "      <td>2461.849909</td>\n",
       "      <td>3455.109985</td>\n",
       "    </tr>\n",
       "    <tr>\n",
       "      <th>23</th>\n",
       "      <td>2022-01-07</td>\n",
       "      <td>2939.295344</td>\n",
       "      <td>2423.606658</td>\n",
       "      <td>3428.312778</td>\n",
       "    </tr>\n",
       "    <tr>\n",
       "      <th>24</th>\n",
       "      <td>2022-01-08</td>\n",
       "      <td>2808.551434</td>\n",
       "      <td>2303.968327</td>\n",
       "      <td>3310.401744</td>\n",
       "    </tr>\n",
       "    <tr>\n",
       "      <th>25</th>\n",
       "      <td>2022-01-09</td>\n",
       "      <td>3308.321029</td>\n",
       "      <td>2807.430971</td>\n",
       "      <td>3771.464361</td>\n",
       "    </tr>\n",
       "    <tr>\n",
       "      <th>26</th>\n",
       "      <td>2022-01-10</td>\n",
       "      <td>3458.008974</td>\n",
       "      <td>2971.325632</td>\n",
       "      <td>3957.536111</td>\n",
       "    </tr>\n",
       "    <tr>\n",
       "      <th>27</th>\n",
       "      <td>2022-01-11</td>\n",
       "      <td>3345.945587</td>\n",
       "      <td>2863.102625</td>\n",
       "      <td>3833.285474</td>\n",
       "    </tr>\n",
       "    <tr>\n",
       "      <th>28</th>\n",
       "      <td>2022-01-12</td>\n",
       "      <td>3312.270142</td>\n",
       "      <td>2848.028373</td>\n",
       "      <td>3805.868191</td>\n",
       "    </tr>\n",
       "    <tr>\n",
       "      <th>29</th>\n",
       "      <td>2022-01-13</td>\n",
       "      <td>3241.880695</td>\n",
       "      <td>2755.499505</td>\n",
       "      <td>3732.546026</td>\n",
       "    </tr>\n",
       "  </tbody>\n",
       "</table>\n",
       "</div>"
      ],
      "text/plain": [
       "           ds         yhat   yhat_lower   yhat_upper\n",
       "0  2021-12-15  3641.956725  3170.204802  4154.982873\n",
       "1  2021-12-16  3427.231339  2935.718053  3938.449264\n",
       "2  2021-12-17  3260.783304  2752.393932  3735.204923\n",
       "3  2021-12-18  2984.630419  2520.248494  3454.891408\n",
       "4  2021-12-19  3346.944241  2869.957198  3854.867326\n",
       "5  2021-12-20  3368.886146  2867.126821  3843.129431\n",
       "6  2021-12-21  3140.302604  2643.848778  3621.233054\n",
       "7  2021-12-22  3002.590193  2546.282433  3512.449139\n",
       "8  2021-12-23  2841.632452  2373.543255  3311.303645\n",
       "9  2021-12-24  2734.349777  2229.656036  3198.566324\n",
       "10 2021-12-25  2521.641873  2054.261603  3010.009926\n",
       "11 2021-12-26  2950.523460  2444.554463  3384.766131\n",
       "12 2021-12-27  3040.982373  2565.966489  3503.256537\n",
       "13 2021-12-28  2881.696695  2404.597930  3359.787677\n",
       "14 2021-12-29  2812.920997  2289.292758  3293.175402\n",
       "15 2021-12-30  2719.443400  2209.764888  3186.536045\n",
       "16 2021-12-31  2677.154227  2215.573600  3178.749571\n",
       "17 2022-01-01  2526.005444  2021.365047  3010.651535\n",
       "18 2022-01-02  3012.161269  2516.779491  3509.081801\n",
       "19 2022-01-03  3154.868836  2692.166053  3607.070758\n",
       "20 2022-01-04  3042.185364  2571.433804  3540.060041\n",
       "21 2022-01-05  3013.871774  2524.813730  3541.525720\n",
       "22 2022-01-06  2954.354363  2461.849909  3455.109985\n",
       "23 2022-01-07  2939.295344  2423.606658  3428.312778\n",
       "24 2022-01-08  2808.551434  2303.968327  3310.401744\n",
       "25 2022-01-09  3308.321029  2807.430971  3771.464361\n",
       "26 2022-01-10  3458.008974  2971.325632  3957.536111\n",
       "27 2022-01-11  3345.945587  2863.102625  3833.285474\n",
       "28 2022-01-12  3312.270142  2848.028373  3805.868191\n",
       "29 2022-01-13  3241.880695  2755.499505  3732.546026"
      ]
     },
     "execution_count": 12,
     "metadata": {},
     "output_type": "execute_result"
    }
   ],
   "source": [
    "forecast = model.predict(future)\n",
    "forecast[['ds', 'yhat', 'yhat_lower', 'yhat_upper']]"
   ]
  },
  {
   "cell_type": "code",
   "execution_count": null,
   "id": "cc37e266-27f8-4a3a-88de-8d538184cde4",
   "metadata": {},
   "outputs": [],
   "source": []
  },
  {
   "cell_type": "code",
   "execution_count": 13,
   "id": "f15f6ab8-1b37-46af-84fe-0781279b52d9",
   "metadata": {},
   "outputs": [],
   "source": [
    "# Forecast\n",
    "Forecast = pd.Series(forecast.yhat.values, index=df_test.index)\n",
    "lower_series = pd.Series(forecast.yhat_lower.values, index=df_test.index)\n",
    "upper_series = pd.Series(forecast.yhat_upper.values, index=df_test.index)"
   ]
  },
  {
   "cell_type": "code",
   "execution_count": 14,
   "id": "67ccfa00-a15c-4725-bcae-e693e268efa4",
   "metadata": {},
   "outputs": [
    {
     "data": {
      "text/plain": [
       "date\n",
       "2021-12-15    3641.956725\n",
       "dtype: float64"
      ]
     },
     "execution_count": 14,
     "metadata": {},
     "output_type": "execute_result"
    }
   ],
   "source": [
    "Forecast.head(1)"
   ]
  },
  {
   "cell_type": "code",
   "execution_count": 15,
   "id": "a68c6fdb-745d-409c-bc15-b2ad7ff87cea",
   "metadata": {},
   "outputs": [
    {
     "data": {
      "text/html": [
       "<div>\n",
       "<style scoped>\n",
       "    .dataframe tbody tr th:only-of-type {\n",
       "        vertical-align: middle;\n",
       "    }\n",
       "\n",
       "    .dataframe tbody tr th {\n",
       "        vertical-align: top;\n",
       "    }\n",
       "\n",
       "    .dataframe thead th {\n",
       "        text-align: right;\n",
       "    }\n",
       "</style>\n",
       "<table border=\"1\" class=\"dataframe\">\n",
       "  <thead>\n",
       "    <tr style=\"text-align: right;\">\n",
       "      <th></th>\n",
       "      <th>quantity</th>\n",
       "    </tr>\n",
       "    <tr>\n",
       "      <th>date</th>\n",
       "      <th></th>\n",
       "    </tr>\n",
       "  </thead>\n",
       "  <tbody>\n",
       "    <tr>\n",
       "      <th>2021-12-15</th>\n",
       "      <td>5845</td>\n",
       "    </tr>\n",
       "  </tbody>\n",
       "</table>\n",
       "</div>"
      ],
      "text/plain": [
       "            quantity\n",
       "date                \n",
       "2021-12-15      5845"
      ]
     },
     "execution_count": 15,
     "metadata": {},
     "output_type": "execute_result"
    }
   ],
   "source": [
    "df_test.head(1)"
   ]
  },
  {
   "cell_type": "code",
   "execution_count": 16,
   "id": "53271347-0972-47ce-8aab-0e98bafa3f6a",
   "metadata": {},
   "outputs": [
    {
     "data": {
      "text/plain": [
       "0.2609444587323481"
      ]
     },
     "execution_count": 16,
     "metadata": {},
     "output_type": "execute_result"
    }
   ],
   "source": [
    "mean_absolute_percentage_error(df_test.quantity, Forecast)"
   ]
  },
  {
   "cell_type": "code",
   "execution_count": 17,
   "id": "d9b9cc5d-565c-4721-a526-14074dff1b52",
   "metadata": {},
   "outputs": [
    {
     "data": {
      "text/plain": [
       "581.0338115986353"
      ]
     },
     "execution_count": 17,
     "metadata": {},
     "output_type": "execute_result"
    }
   ],
   "source": [
    "mean_absolute_error(df_test.quantity, Forecast)"
   ]
  },
  {
   "cell_type": "code",
   "execution_count": 18,
   "id": "c920a216-de22-4a2e-8a3a-fceae6347c92",
   "metadata": {},
   "outputs": [
    {
     "data": {
      "text/plain": [
       "549137.8902914325"
      ]
     },
     "execution_count": 18,
     "metadata": {},
     "output_type": "execute_result"
    }
   ],
   "source": [
    "mean_squared_error(df_test.quantity, Forecast)"
   ]
  },
  {
   "cell_type": "markdown",
   "id": "d2b8d3fd-8ed8-4059-90f5-afdb21bdacfa",
   "metadata": {},
   "source": [
    "### Cross-validation"
   ]
  },
  {
   "cell_type": "code",
   "execution_count": 19,
   "id": "a5e66eb0-d6ba-46e8-b7e3-aa19639d47c3",
   "metadata": {},
   "outputs": [
    {
     "data": {
      "text/plain": [
       "(957, 2)"
      ]
     },
     "execution_count": 19,
     "metadata": {},
     "output_type": "execute_result"
    }
   ],
   "source": [
    "df_prophet = df.reset_index(drop=False) #No split required here, the k-fold will split it automatically\n",
    "df_prophet.columns = [\"ds\", \"y\"]\n",
    "df_prophet.shape"
   ]
  },
  {
   "cell_type": "code",
   "execution_count": 20,
   "id": "b6ce9fc1-e8ac-4c6f-af08-09c9967f4dff",
   "metadata": {},
   "outputs": [
    {
     "data": {
      "text/plain": [
       "<prophet.forecaster.Prophet at 0x7f12da8fb550>"
      ]
     },
     "execution_count": 20,
     "metadata": {},
     "output_type": "execute_result"
    }
   ],
   "source": [
    "model = Prophet(n_changepoints=16, seasonality_mode = \"additive\", changepoint_prior_scale=0.05, seasonality_prior_scale=10.0, daily_seasonality = False)\n",
    "model.fit(df_prophet)"
   ]
  },
  {
   "cell_type": "code",
   "execution_count": 21,
   "id": "9f2844fd-5718-4447-a39e-15de15414547",
   "metadata": {},
   "outputs": [
    {
     "name": "stderr",
     "output_type": "stream",
     "text": [
      "INFO:prophet:Making 1 forecasts with cutoffs between 2021-12-14 00:00:00 and 2021-12-14 00:00:00\n"
     ]
    },
    {
     "data": {
      "application/vnd.jupyter.widget-view+json": {
       "model_id": "5dd293f4cc7d43bfb543ca68badb8f77",
       "version_major": 2,
       "version_minor": 0
      },
      "text/plain": [
       "  0%|          | 0/1 [00:00<?, ?it/s]"
      ]
     },
     "metadata": {},
     "output_type": "display_data"
    }
   ],
   "source": [
    "df_cv=cross_validation(model, horizon='30 days', initial = '927 days' ) #This evaluates how the model using the last 30 days like the one I did manually above"
   ]
  },
  {
   "cell_type": "code",
   "execution_count": 22,
   "id": "6b14ed26-0dfe-432a-885f-814c698095e7",
   "metadata": {},
   "outputs": [
    {
     "data": {
      "text/html": [
       "<div>\n",
       "<style scoped>\n",
       "    .dataframe tbody tr th:only-of-type {\n",
       "        vertical-align: middle;\n",
       "    }\n",
       "\n",
       "    .dataframe tbody tr th {\n",
       "        vertical-align: top;\n",
       "    }\n",
       "\n",
       "    .dataframe thead th {\n",
       "        text-align: right;\n",
       "    }\n",
       "</style>\n",
       "<table border=\"1\" class=\"dataframe\">\n",
       "  <thead>\n",
       "    <tr style=\"text-align: right;\">\n",
       "      <th></th>\n",
       "      <th>ds</th>\n",
       "      <th>yhat</th>\n",
       "      <th>yhat_lower</th>\n",
       "      <th>yhat_upper</th>\n",
       "      <th>y</th>\n",
       "      <th>cutoff</th>\n",
       "    </tr>\n",
       "  </thead>\n",
       "  <tbody>\n",
       "    <tr>\n",
       "      <th>0</th>\n",
       "      <td>2021-12-15</td>\n",
       "      <td>3641.956725</td>\n",
       "      <td>3159.365454</td>\n",
       "      <td>4136.986236</td>\n",
       "      <td>5845</td>\n",
       "      <td>2021-12-14</td>\n",
       "    </tr>\n",
       "    <tr>\n",
       "      <th>1</th>\n",
       "      <td>2021-12-16</td>\n",
       "      <td>3427.231339</td>\n",
       "      <td>2923.202056</td>\n",
       "      <td>3918.290963</td>\n",
       "      <td>4137</td>\n",
       "      <td>2021-12-14</td>\n",
       "    </tr>\n",
       "    <tr>\n",
       "      <th>2</th>\n",
       "      <td>2021-12-17</td>\n",
       "      <td>3260.783304</td>\n",
       "      <td>2752.921077</td>\n",
       "      <td>3726.824935</td>\n",
       "      <td>3100</td>\n",
       "      <td>2021-12-14</td>\n",
       "    </tr>\n",
       "    <tr>\n",
       "      <th>3</th>\n",
       "      <td>2021-12-18</td>\n",
       "      <td>2984.630419</td>\n",
       "      <td>2559.603368</td>\n",
       "      <td>3490.315540</td>\n",
       "      <td>2453</td>\n",
       "      <td>2021-12-14</td>\n",
       "    </tr>\n",
       "    <tr>\n",
       "      <th>4</th>\n",
       "      <td>2021-12-19</td>\n",
       "      <td>3346.944241</td>\n",
       "      <td>2867.076526</td>\n",
       "      <td>3831.168853</td>\n",
       "      <td>2631</td>\n",
       "      <td>2021-12-14</td>\n",
       "    </tr>\n",
       "  </tbody>\n",
       "</table>\n",
       "</div>"
      ],
      "text/plain": [
       "          ds         yhat   yhat_lower   yhat_upper     y     cutoff\n",
       "0 2021-12-15  3641.956725  3159.365454  4136.986236  5845 2021-12-14\n",
       "1 2021-12-16  3427.231339  2923.202056  3918.290963  4137 2021-12-14\n",
       "2 2021-12-17  3260.783304  2752.921077  3726.824935  3100 2021-12-14\n",
       "3 2021-12-18  2984.630419  2559.603368  3490.315540  2453 2021-12-14\n",
       "4 2021-12-19  3346.944241  2867.076526  3831.168853  2631 2021-12-14"
      ]
     },
     "execution_count": 22,
     "metadata": {},
     "output_type": "execute_result"
    }
   ],
   "source": [
    "df_cv.head()"
   ]
  },
  {
   "cell_type": "code",
   "execution_count": 23,
   "id": "8e9b4085-1c26-4443-9599-d9b879084049",
   "metadata": {},
   "outputs": [
    {
     "data": {
      "text/html": [
       "<div>\n",
       "<style scoped>\n",
       "    .dataframe tbody tr th:only-of-type {\n",
       "        vertical-align: middle;\n",
       "    }\n",
       "\n",
       "    .dataframe tbody tr th {\n",
       "        vertical-align: top;\n",
       "    }\n",
       "\n",
       "    .dataframe thead th {\n",
       "        text-align: right;\n",
       "    }\n",
       "</style>\n",
       "<table border=\"1\" class=\"dataframe\">\n",
       "  <thead>\n",
       "    <tr style=\"text-align: right;\">\n",
       "      <th></th>\n",
       "      <th>horizon</th>\n",
       "      <th>mse</th>\n",
       "      <th>rmse</th>\n",
       "      <th>mae</th>\n",
       "      <th>mape</th>\n",
       "      <th>mdape</th>\n",
       "      <th>smape</th>\n",
       "      <th>coverage</th>\n",
       "    </tr>\n",
       "  </thead>\n",
       "  <tbody>\n",
       "    <tr>\n",
       "      <th>0</th>\n",
       "      <td>30 days</td>\n",
       "      <td>549137.890291</td>\n",
       "      <td>741.038387</td>\n",
       "      <td>581.033812</td>\n",
       "      <td>0.260944</td>\n",
       "      <td>0.160632</td>\n",
       "      <td>0.215068</td>\n",
       "      <td>0.533333</td>\n",
       "    </tr>\n",
       "  </tbody>\n",
       "</table>\n",
       "</div>"
      ],
      "text/plain": [
       "  horizon            mse        rmse         mae      mape     mdape  \\\n",
       "0 30 days  549137.890291  741.038387  581.033812  0.260944  0.160632   \n",
       "\n",
       "      smape  coverage  \n",
       "0  0.215068  0.533333  "
      ]
     },
     "execution_count": 23,
     "metadata": {},
     "output_type": "execute_result"
    }
   ],
   "source": [
    "performance_metrics(df_cv, rolling_window=1) "
   ]
  },
  {
   "cell_type": "markdown",
   "id": "85871519-c19b-4677-8c9f-7577ca6354cf",
   "metadata": {},
   "source": [
    "This should be comparable to LSTM, which evaluates the model with new data on each step"
   ]
  },
  {
   "cell_type": "code",
   "execution_count": 24,
   "id": "9dcfc760-e374-479d-9129-9f7868816109",
   "metadata": {},
   "outputs": [
    {
     "name": "stderr",
     "output_type": "stream",
     "text": [
      "INFO:prophet:Making 30 forecasts with cutoffs between 2021-12-14 00:00:00 and 2022-01-12 00:00:00\n"
     ]
    },
    {
     "data": {
      "application/vnd.jupyter.widget-view+json": {
       "model_id": "70430c0d1c924db287526d87acfc6278",
       "version_major": 2,
       "version_minor": 0
      },
      "text/plain": [
       "  0%|          | 0/30 [00:00<?, ?it/s]"
      ]
     },
     "metadata": {},
     "output_type": "display_data"
    },
    {
     "data": {
      "text/html": [
       "<div>\n",
       "<style scoped>\n",
       "    .dataframe tbody tr th:only-of-type {\n",
       "        vertical-align: middle;\n",
       "    }\n",
       "\n",
       "    .dataframe tbody tr th {\n",
       "        vertical-align: top;\n",
       "    }\n",
       "\n",
       "    .dataframe thead th {\n",
       "        text-align: right;\n",
       "    }\n",
       "</style>\n",
       "<table border=\"1\" class=\"dataframe\">\n",
       "  <thead>\n",
       "    <tr style=\"text-align: right;\">\n",
       "      <th></th>\n",
       "      <th>horizon</th>\n",
       "      <th>mse</th>\n",
       "      <th>rmse</th>\n",
       "      <th>mae</th>\n",
       "      <th>mape</th>\n",
       "      <th>mdape</th>\n",
       "      <th>smape</th>\n",
       "      <th>coverage</th>\n",
       "    </tr>\n",
       "  </thead>\n",
       "  <tbody>\n",
       "    <tr>\n",
       "      <th>0</th>\n",
       "      <td>1 days</td>\n",
       "      <td>450744.805408</td>\n",
       "      <td>671.375309</td>\n",
       "      <td>459.533639</td>\n",
       "      <td>0.208942</td>\n",
       "      <td>0.089451</td>\n",
       "      <td>0.173195</td>\n",
       "      <td>0.666667</td>\n",
       "    </tr>\n",
       "  </tbody>\n",
       "</table>\n",
       "</div>"
      ],
      "text/plain": [
       "  horizon            mse        rmse         mae      mape     mdape  \\\n",
       "0  1 days  450744.805408  671.375309  459.533639  0.208942  0.089451   \n",
       "\n",
       "      smape  coverage  \n",
       "0  0.173195  0.666667  "
      ]
     },
     "execution_count": 24,
     "metadata": {},
     "output_type": "execute_result"
    }
   ],
   "source": [
    "df_cv=cross_validation(model, horizon='1 days', initial = '927 days', period = \"1 days\" )\n",
    "performance_metrics(df_cv, rolling_window=1)\n"
   ]
  },
  {
   "cell_type": "markdown",
   "id": "b9c2ac6f-b77e-4323-bced-90f66023f4ef",
   "metadata": {},
   "source": [
    "All metrics were a lot lower on Prophet than with LSTM. This would probably change if data from external sources like weather, social midia are added as features to LSTM."
   ]
  },
  {
   "cell_type": "markdown",
   "id": "d66e8aad-1cb8-40f4-b416-ee413b2abf63",
   "metadata": {},
   "source": [
    "### Hyperparameter tunning"
   ]
  },
  {
   "cell_type": "code",
   "execution_count": 25,
   "id": "3885d593-0271-4994-9a33-8999208fd76f",
   "metadata": {},
   "outputs": [],
   "source": [
    "# Prophet: https://facebook.github.io/prophet/docs/diagnostics.html\n",
    "param_grid = {'changepoint_prior_scale': [0.01, 0.05, 0.1],\n",
    "              'seasonality_prior_scale': [1.0, 10.0, 100.0],\n",
    "              'seasonality_mode': ['additive', 'multiplicative']}"
   ]
  },
  {
   "cell_type": "code",
   "execution_count": 26,
   "id": "b0c446ae-3bf6-4248-bd93-7f2af3df3b98",
   "metadata": {},
   "outputs": [],
   "source": [
    "# Generate all combinations of parameters\n",
    "all_params = [dict(zip(param_grid.keys(), v)) for v in itertools.product(*param_grid.values())]\n",
    "mapes = []  # Store mapes\n"
   ]
  },
  {
   "cell_type": "code",
   "execution_count": 27,
   "id": "01bba65e-7d7d-4e94-863f-e261b0246587",
   "metadata": {},
   "outputs": [
    {
     "name": "stderr",
     "output_type": "stream",
     "text": [
      "INFO:prophet:Disabling daily seasonality. Run prophet with daily_seasonality=True to override this.\n",
      "INFO:prophet:Making 1 forecasts with cutoffs between 2021-12-14 00:00:00 and 2021-12-14 00:00:00\n",
      "INFO:prophet:Applying in parallel with <concurrent.futures.process.ProcessPoolExecutor object at 0x7f132c01bc70>\n",
      "INFO:prophet:Disabling daily seasonality. Run prophet with daily_seasonality=True to override this.\n",
      "INFO:prophet:Making 1 forecasts with cutoffs between 2021-12-14 00:00:00 and 2021-12-14 00:00:00\n",
      "INFO:prophet:Applying in parallel with <concurrent.futures.process.ProcessPoolExecutor object at 0x7f12ddcc1fd0>\n",
      "INFO:prophet:Disabling daily seasonality. Run prophet with daily_seasonality=True to override this.\n",
      "INFO:prophet:Making 1 forecasts with cutoffs between 2021-12-14 00:00:00 and 2021-12-14 00:00:00\n",
      "INFO:prophet:Applying in parallel with <concurrent.futures.process.ProcessPoolExecutor object at 0x7f12e2be8580>\n",
      "INFO:prophet:Disabling daily seasonality. Run prophet with daily_seasonality=True to override this.\n",
      "INFO:prophet:Making 1 forecasts with cutoffs between 2021-12-14 00:00:00 and 2021-12-14 00:00:00\n",
      "INFO:prophet:Applying in parallel with <concurrent.futures.process.ProcessPoolExecutor object at 0x7f12de8cf340>\n",
      "INFO:prophet:Disabling daily seasonality. Run prophet with daily_seasonality=True to override this.\n",
      "INFO:prophet:Making 1 forecasts with cutoffs between 2021-12-14 00:00:00 and 2021-12-14 00:00:00\n",
      "INFO:prophet:Applying in parallel with <concurrent.futures.process.ProcessPoolExecutor object at 0x7f12db9362b0>\n",
      "INFO:prophet:Disabling daily seasonality. Run prophet with daily_seasonality=True to override this.\n",
      "INFO:prophet:Making 1 forecasts with cutoffs between 2021-12-14 00:00:00 and 2021-12-14 00:00:00\n",
      "INFO:prophet:Applying in parallel with <concurrent.futures.process.ProcessPoolExecutor object at 0x7f12db8ba940>\n",
      "INFO:prophet:Disabling daily seasonality. Run prophet with daily_seasonality=True to override this.\n",
      "INFO:prophet:Making 1 forecasts with cutoffs between 2021-12-14 00:00:00 and 2021-12-14 00:00:00\n",
      "INFO:prophet:Applying in parallel with <concurrent.futures.process.ProcessPoolExecutor object at 0x7f132c026af0>\n",
      "INFO:prophet:Disabling daily seasonality. Run prophet with daily_seasonality=True to override this.\n",
      "INFO:prophet:Making 1 forecasts with cutoffs between 2021-12-14 00:00:00 and 2021-12-14 00:00:00\n",
      "INFO:prophet:Applying in parallel with <concurrent.futures.process.ProcessPoolExecutor object at 0x7f12de8cf3d0>\n",
      "INFO:prophet:Disabling daily seasonality. Run prophet with daily_seasonality=True to override this.\n",
      "INFO:prophet:Making 1 forecasts with cutoffs between 2021-12-14 00:00:00 and 2021-12-14 00:00:00\n",
      "INFO:prophet:Applying in parallel with <concurrent.futures.process.ProcessPoolExecutor object at 0x7f132c026af0>\n",
      "INFO:prophet:Disabling daily seasonality. Run prophet with daily_seasonality=True to override this.\n",
      "INFO:prophet:Making 1 forecasts with cutoffs between 2021-12-14 00:00:00 and 2021-12-14 00:00:00\n",
      "INFO:prophet:Applying in parallel with <concurrent.futures.process.ProcessPoolExecutor object at 0x7f12db924f70>\n",
      "INFO:prophet:Disabling daily seasonality. Run prophet with daily_seasonality=True to override this.\n",
      "INFO:prophet:Making 1 forecasts with cutoffs between 2021-12-14 00:00:00 and 2021-12-14 00:00:00\n",
      "INFO:prophet:Applying in parallel with <concurrent.futures.process.ProcessPoolExecutor object at 0x7f12db8bad30>\n",
      "INFO:prophet:Disabling daily seasonality. Run prophet with daily_seasonality=True to override this.\n",
      "INFO:prophet:Making 1 forecasts with cutoffs between 2021-12-14 00:00:00 and 2021-12-14 00:00:00\n",
      "INFO:prophet:Applying in parallel with <concurrent.futures.process.ProcessPoolExecutor object at 0x7f12db9362b0>\n",
      "INFO:prophet:Disabling daily seasonality. Run prophet with daily_seasonality=True to override this.\n",
      "INFO:prophet:Making 1 forecasts with cutoffs between 2021-12-14 00:00:00 and 2021-12-14 00:00:00\n",
      "INFO:prophet:Applying in parallel with <concurrent.futures.process.ProcessPoolExecutor object at 0x7f12db94db80>\n",
      "INFO:prophet:Disabling daily seasonality. Run prophet with daily_seasonality=True to override this.\n",
      "INFO:prophet:Making 1 forecasts with cutoffs between 2021-12-14 00:00:00 and 2021-12-14 00:00:00\n",
      "INFO:prophet:Applying in parallel with <concurrent.futures.process.ProcessPoolExecutor object at 0x7f12da8c38b0>\n",
      "INFO:prophet:Disabling daily seasonality. Run prophet with daily_seasonality=True to override this.\n",
      "INFO:prophet:Making 1 forecasts with cutoffs between 2021-12-14 00:00:00 and 2021-12-14 00:00:00\n",
      "INFO:prophet:Applying in parallel with <concurrent.futures.process.ProcessPoolExecutor object at 0x7f12ddcc1fd0>\n",
      "INFO:prophet:Disabling daily seasonality. Run prophet with daily_seasonality=True to override this.\n",
      "INFO:prophet:Making 1 forecasts with cutoffs between 2021-12-14 00:00:00 and 2021-12-14 00:00:00\n",
      "INFO:prophet:Applying in parallel with <concurrent.futures.process.ProcessPoolExecutor object at 0x7f12da8c7070>\n",
      "INFO:prophet:Disabling daily seasonality. Run prophet with daily_seasonality=True to override this.\n",
      "INFO:prophet:Making 1 forecasts with cutoffs between 2021-12-14 00:00:00 and 2021-12-14 00:00:00\n",
      "INFO:prophet:Applying in parallel with <concurrent.futures.process.ProcessPoolExecutor object at 0x7f12e126ac10>\n",
      "INFO:prophet:Disabling daily seasonality. Run prophet with daily_seasonality=True to override this.\n",
      "INFO:prophet:Making 1 forecasts with cutoffs between 2021-12-14 00:00:00 and 2021-12-14 00:00:00\n",
      "INFO:prophet:Applying in parallel with <concurrent.futures.process.ProcessPoolExecutor object at 0x7f12dd9f02b0>\n"
     ]
    }
   ],
   "source": [
    "# Use cross validation to evaluate all parameters\n",
    "for params in all_params:\n",
    "    model = Prophet(**params).fit(df_prophet)\n",
    "    df_cv = cross_validation(model, horizon='30 days', initial = '927 days', parallel=\"processes\")\n",
    "    df_p = performance_metrics(df_cv, rolling_window=1)\n",
    "    mapes.append(df_p['mape'].values[0])"
   ]
  },
  {
   "cell_type": "code",
   "execution_count": 28,
   "id": "751234f6-0657-4362-8462-044f3a841e09",
   "metadata": {},
   "outputs": [
    {
     "data": {
      "text/html": [
       "<div>\n",
       "<style scoped>\n",
       "    .dataframe tbody tr th:only-of-type {\n",
       "        vertical-align: middle;\n",
       "    }\n",
       "\n",
       "    .dataframe tbody tr th {\n",
       "        vertical-align: top;\n",
       "    }\n",
       "\n",
       "    .dataframe thead th {\n",
       "        text-align: right;\n",
       "    }\n",
       "</style>\n",
       "<table border=\"1\" class=\"dataframe\">\n",
       "  <thead>\n",
       "    <tr style=\"text-align: right;\">\n",
       "      <th></th>\n",
       "      <th>changepoint_prior_scale</th>\n",
       "      <th>seasonality_prior_scale</th>\n",
       "      <th>seasonality_mode</th>\n",
       "      <th>mape</th>\n",
       "    </tr>\n",
       "  </thead>\n",
       "  <tbody>\n",
       "    <tr>\n",
       "      <th>0</th>\n",
       "      <td>0.01</td>\n",
       "      <td>1.0</td>\n",
       "      <td>additive</td>\n",
       "      <td>0.162480</td>\n",
       "    </tr>\n",
       "    <tr>\n",
       "      <th>1</th>\n",
       "      <td>0.01</td>\n",
       "      <td>1.0</td>\n",
       "      <td>multiplicative</td>\n",
       "      <td>0.161605</td>\n",
       "    </tr>\n",
       "    <tr>\n",
       "      <th>2</th>\n",
       "      <td>0.01</td>\n",
       "      <td>10.0</td>\n",
       "      <td>additive</td>\n",
       "      <td>0.162034</td>\n",
       "    </tr>\n",
       "    <tr>\n",
       "      <th>3</th>\n",
       "      <td>0.01</td>\n",
       "      <td>10.0</td>\n",
       "      <td>multiplicative</td>\n",
       "      <td>0.163978</td>\n",
       "    </tr>\n",
       "    <tr>\n",
       "      <th>4</th>\n",
       "      <td>0.01</td>\n",
       "      <td>100.0</td>\n",
       "      <td>additive</td>\n",
       "      <td>0.162791</td>\n",
       "    </tr>\n",
       "    <tr>\n",
       "      <th>5</th>\n",
       "      <td>0.01</td>\n",
       "      <td>100.0</td>\n",
       "      <td>multiplicative</td>\n",
       "      <td>0.162937</td>\n",
       "    </tr>\n",
       "    <tr>\n",
       "      <th>6</th>\n",
       "      <td>0.05</td>\n",
       "      <td>1.0</td>\n",
       "      <td>additive</td>\n",
       "      <td>0.265810</td>\n",
       "    </tr>\n",
       "    <tr>\n",
       "      <th>7</th>\n",
       "      <td>0.05</td>\n",
       "      <td>1.0</td>\n",
       "      <td>multiplicative</td>\n",
       "      <td>0.175770</td>\n",
       "    </tr>\n",
       "    <tr>\n",
       "      <th>8</th>\n",
       "      <td>0.05</td>\n",
       "      <td>10.0</td>\n",
       "      <td>additive</td>\n",
       "      <td>0.275957</td>\n",
       "    </tr>\n",
       "    <tr>\n",
       "      <th>9</th>\n",
       "      <td>0.05</td>\n",
       "      <td>10.0</td>\n",
       "      <td>multiplicative</td>\n",
       "      <td>0.174996</td>\n",
       "    </tr>\n",
       "    <tr>\n",
       "      <th>10</th>\n",
       "      <td>0.05</td>\n",
       "      <td>100.0</td>\n",
       "      <td>additive</td>\n",
       "      <td>0.277299</td>\n",
       "    </tr>\n",
       "    <tr>\n",
       "      <th>11</th>\n",
       "      <td>0.05</td>\n",
       "      <td>100.0</td>\n",
       "      <td>multiplicative</td>\n",
       "      <td>0.175131</td>\n",
       "    </tr>\n",
       "    <tr>\n",
       "      <th>12</th>\n",
       "      <td>0.10</td>\n",
       "      <td>1.0</td>\n",
       "      <td>additive</td>\n",
       "      <td>0.413997</td>\n",
       "    </tr>\n",
       "    <tr>\n",
       "      <th>13</th>\n",
       "      <td>0.10</td>\n",
       "      <td>1.0</td>\n",
       "      <td>multiplicative</td>\n",
       "      <td>0.184810</td>\n",
       "    </tr>\n",
       "    <tr>\n",
       "      <th>14</th>\n",
       "      <td>0.10</td>\n",
       "      <td>10.0</td>\n",
       "      <td>additive</td>\n",
       "      <td>0.410146</td>\n",
       "    </tr>\n",
       "    <tr>\n",
       "      <th>15</th>\n",
       "      <td>0.10</td>\n",
       "      <td>10.0</td>\n",
       "      <td>multiplicative</td>\n",
       "      <td>0.186699</td>\n",
       "    </tr>\n",
       "    <tr>\n",
       "      <th>16</th>\n",
       "      <td>0.10</td>\n",
       "      <td>100.0</td>\n",
       "      <td>additive</td>\n",
       "      <td>0.392480</td>\n",
       "    </tr>\n",
       "    <tr>\n",
       "      <th>17</th>\n",
       "      <td>0.10</td>\n",
       "      <td>100.0</td>\n",
       "      <td>multiplicative</td>\n",
       "      <td>0.182487</td>\n",
       "    </tr>\n",
       "  </tbody>\n",
       "</table>\n",
       "</div>"
      ],
      "text/plain": [
       "    changepoint_prior_scale  seasonality_prior_scale seasonality_mode  \\\n",
       "0                      0.01                      1.0         additive   \n",
       "1                      0.01                      1.0   multiplicative   \n",
       "2                      0.01                     10.0         additive   \n",
       "3                      0.01                     10.0   multiplicative   \n",
       "4                      0.01                    100.0         additive   \n",
       "5                      0.01                    100.0   multiplicative   \n",
       "6                      0.05                      1.0         additive   \n",
       "7                      0.05                      1.0   multiplicative   \n",
       "8                      0.05                     10.0         additive   \n",
       "9                      0.05                     10.0   multiplicative   \n",
       "10                     0.05                    100.0         additive   \n",
       "11                     0.05                    100.0   multiplicative   \n",
       "12                     0.10                      1.0         additive   \n",
       "13                     0.10                      1.0   multiplicative   \n",
       "14                     0.10                     10.0         additive   \n",
       "15                     0.10                     10.0   multiplicative   \n",
       "16                     0.10                    100.0         additive   \n",
       "17                     0.10                    100.0   multiplicative   \n",
       "\n",
       "        mape  \n",
       "0   0.162480  \n",
       "1   0.161605  \n",
       "2   0.162034  \n",
       "3   0.163978  \n",
       "4   0.162791  \n",
       "5   0.162937  \n",
       "6   0.265810  \n",
       "7   0.175770  \n",
       "8   0.275957  \n",
       "9   0.174996  \n",
       "10  0.277299  \n",
       "11  0.175131  \n",
       "12  0.413997  \n",
       "13  0.184810  \n",
       "14  0.410146  \n",
       "15  0.186699  \n",
       "16  0.392480  \n",
       "17  0.182487  "
      ]
     },
     "execution_count": 28,
     "metadata": {},
     "output_type": "execute_result"
    }
   ],
   "source": [
    "# Find the best parameters\n",
    "tuning_results = pd.DataFrame(all_params)\n",
    "tuning_results['mape'] = mapes\n",
    "tuning_results"
   ]
  },
  {
   "cell_type": "code",
   "execution_count": 29,
   "id": "2dac2949-0ad2-4341-9894-4832f00c6bec",
   "metadata": {},
   "outputs": [
    {
     "name": "stdout",
     "output_type": "stream",
     "text": [
      "{'changepoint_prior_scale': 0.01, 'seasonality_prior_scale': 1.0, 'seasonality_mode': 'multiplicative'}\n"
     ]
    }
   ],
   "source": [
    "best_params = all_params[np.argmin(mapes)]\n",
    "print(best_params)"
   ]
  },
  {
   "cell_type": "markdown",
   "id": "4a48fcf6-8d5c-4d2c-b4e7-6c41c860f95c",
   "metadata": {},
   "source": [
    "### Best model fit"
   ]
  },
  {
   "cell_type": "code",
   "execution_count": 30,
   "id": "8f0a0f18-caf1-4003-9074-dbc5e7cd7432",
   "metadata": {},
   "outputs": [],
   "source": [
    "df_prophet = df_train.reset_index(drop=False)\n",
    "df_prophet.columns = [\"ds\", \"y\"]"
   ]
  },
  {
   "cell_type": "code",
   "execution_count": 31,
   "id": "b9c4cfba-3935-4ad2-893d-dba365f6fa0d",
   "metadata": {},
   "outputs": [
    {
     "name": "stderr",
     "output_type": "stream",
     "text": [
      "INFO:prophet:Disabling daily seasonality. Run prophet with daily_seasonality=True to override this.\n"
     ]
    }
   ],
   "source": [
    "model = Prophet(**best_params).fit(df_prophet)  # Fit model with given params"
   ]
  },
  {
   "cell_type": "code",
   "execution_count": 32,
   "id": "c36db4e8-891d-44ed-b9dd-3356bfb657c7",
   "metadata": {},
   "outputs": [],
   "source": [
    "future = model.make_future_dataframe(periods=30, include_history=False)"
   ]
  },
  {
   "cell_type": "code",
   "execution_count": 33,
   "id": "3149c079-72f5-4131-bae4-3e5a55b18372",
   "metadata": {},
   "outputs": [
    {
     "data": {
      "text/html": [
       "<div>\n",
       "<style scoped>\n",
       "    .dataframe tbody tr th:only-of-type {\n",
       "        vertical-align: middle;\n",
       "    }\n",
       "\n",
       "    .dataframe tbody tr th {\n",
       "        vertical-align: top;\n",
       "    }\n",
       "\n",
       "    .dataframe thead th {\n",
       "        text-align: right;\n",
       "    }\n",
       "</style>\n",
       "<table border=\"1\" class=\"dataframe\">\n",
       "  <thead>\n",
       "    <tr style=\"text-align: right;\">\n",
       "      <th></th>\n",
       "      <th>ds</th>\n",
       "      <th>yhat</th>\n",
       "      <th>yhat_lower</th>\n",
       "      <th>yhat_upper</th>\n",
       "    </tr>\n",
       "  </thead>\n",
       "  <tbody>\n",
       "    <tr>\n",
       "      <th>25</th>\n",
       "      <td>2022-01-09</td>\n",
       "      <td>2952.897988</td>\n",
       "      <td>2449.439837</td>\n",
       "      <td>3450.768490</td>\n",
       "    </tr>\n",
       "    <tr>\n",
       "      <th>26</th>\n",
       "      <td>2022-01-10</td>\n",
       "      <td>3146.079202</td>\n",
       "      <td>2611.639033</td>\n",
       "      <td>3658.713489</td>\n",
       "    </tr>\n",
       "    <tr>\n",
       "      <th>27</th>\n",
       "      <td>2022-01-11</td>\n",
       "      <td>2971.344388</td>\n",
       "      <td>2511.476518</td>\n",
       "      <td>3446.655523</td>\n",
       "    </tr>\n",
       "    <tr>\n",
       "      <th>28</th>\n",
       "      <td>2022-01-12</td>\n",
       "      <td>2916.761238</td>\n",
       "      <td>2394.738988</td>\n",
       "      <td>3439.378041</td>\n",
       "    </tr>\n",
       "    <tr>\n",
       "      <th>29</th>\n",
       "      <td>2022-01-13</td>\n",
       "      <td>2808.974929</td>\n",
       "      <td>2288.941823</td>\n",
       "      <td>3283.848966</td>\n",
       "    </tr>\n",
       "  </tbody>\n",
       "</table>\n",
       "</div>"
      ],
      "text/plain": [
       "           ds         yhat   yhat_lower   yhat_upper\n",
       "25 2022-01-09  2952.897988  2449.439837  3450.768490\n",
       "26 2022-01-10  3146.079202  2611.639033  3658.713489\n",
       "27 2022-01-11  2971.344388  2511.476518  3446.655523\n",
       "28 2022-01-12  2916.761238  2394.738988  3439.378041\n",
       "29 2022-01-13  2808.974929  2288.941823  3283.848966"
      ]
     },
     "execution_count": 33,
     "metadata": {},
     "output_type": "execute_result"
    }
   ],
   "source": [
    "forecast = model.predict(future)\n",
    "forecast[['ds', 'yhat', 'yhat_lower', 'yhat_upper']].tail()"
   ]
  },
  {
   "cell_type": "code",
   "execution_count": null,
   "id": "71170311-852a-4c50-98c7-9af5ffc3336e",
   "metadata": {},
   "outputs": [],
   "source": []
  },
  {
   "cell_type": "code",
   "execution_count": 34,
   "id": "3d31c763-787a-43ea-8027-2fb4d7234f44",
   "metadata": {},
   "outputs": [],
   "source": [
    "# Forecast\n",
    "Forecast = pd.Series(forecast.yhat.values, index=df_test.index)\n",
    "lower_series = pd.Series(forecast.yhat_lower.values, index=df_test.index)\n",
    "upper_series = pd.Series(forecast.yhat_upper.values, index=df_test.index)"
   ]
  },
  {
   "cell_type": "code",
   "execution_count": 35,
   "id": "abdf65ef-cd8f-4c28-bc25-7ac20deb1ba2",
   "metadata": {},
   "outputs": [
    {
     "data": {
      "text/plain": [
       "(array([18017., 18140., 18262., 18383., 18506., 18628., 18748., 18871.,\n",
       "        18993.]),\n",
       " [Text(18017.0, 0, '2019-05'),\n",
       "  Text(18140.0, 0, '2019-09'),\n",
       "  Text(18262.0, 0, '2020-01'),\n",
       "  Text(18383.0, 0, '2020-05'),\n",
       "  Text(18506.0, 0, '2020-09'),\n",
       "  Text(18628.0, 0, '2021-01'),\n",
       "  Text(18748.0, 0, '2021-05'),\n",
       "  Text(18871.0, 0, '2021-09'),\n",
       "  Text(18993.0, 0, '2022-01')])"
      ]
     },
     "execution_count": 35,
     "metadata": {},
     "output_type": "execute_result"
    },
    {
     "data": {
      "image/png": "[encoded data removed]",
      "text/plain": [
       "<Figure size 720x432 with 1 Axes>"
      ]
     },
     "metadata": {},
     "output_type": "display_data"
    }
   ],
   "source": [
    "fig1 = model.plot(forecast)\n",
    "plt.xticks(fontsize=14)"
   ]
  },
  {
   "cell_type": "code",
   "execution_count": 36,
   "id": "1e0c8c1c-847f-4a55-8554-9db8d12ace5a",
   "metadata": {},
   "outputs": [
    {
     "data": {
      "image/png": "[encoded data removed]",
      "text/plain": [
       "<Figure size 648x648 with 3 Axes>"
      ]
     },
     "metadata": {},
     "output_type": "display_data"
    }
   ],
   "source": [
    "model.plot_components(forecast)\n",
    "plt.show()"
   ]
  },
  {
   "cell_type": "code",
   "execution_count": 37,
   "id": "94921f70-831f-464a-9544-b7d0623eb3e0",
   "metadata": {},
   "outputs": [
    {
     "name": "stderr",
     "output_type": "stream",
     "text": [
      "INFO:matplotlib.category:Using categorical units to plot a list of strings that are all parsable as floats or dates. If these strings should be plotted as numbers, cast to the appropriate data type before plotting.\n",
      "INFO:matplotlib.category:Using categorical units to plot a list of strings that are all parsable as floats or dates. If these strings should be plotted as numbers, cast to the appropriate data type before plotting.\n",
      "INFO:matplotlib.category:Using categorical units to plot a list of strings that are all parsable as floats or dates. If these strings should be plotted as numbers, cast to the appropriate data type before plotting.\n",
      "INFO:matplotlib.category:Using categorical units to plot a list of strings that are all parsable as floats or dates. If these strings should be plotted as numbers, cast to the appropriate data type before plotting.\n",
      "INFO:matplotlib.category:Using categorical units to plot a list of strings that are all parsable as floats or dates. If these strings should be plotted as numbers, cast to the appropriate data type before plotting.\n",
      "INFO:matplotlib.category:Using categorical units to plot a list of strings that are all parsable as floats or dates. If these strings should be plotted as numbers, cast to the appropriate data type before plotting.\n",
      "INFO:matplotlib.category:Using categorical units to plot a list of strings that are all parsable as floats or dates. If these strings should be plotted as numbers, cast to the appropriate data type before plotting.\n"
     ]
    },
    {
     "data": {
      "image/png": "[encoded data removed]",
      "text/plain": [
       "<Figure size 800x300 with 1 Axes>"
      ]
     },
     "metadata": {
      "needs_background": "light"
     },
     "output_type": "display_data"
    }
   ],
   "source": [
    "# Plot\n",
    "\n",
    "n = len(df_train)\n",
    "ticks = [0,int(n/4), int((n*2)/4), int((n*3)/4), n-1]\n",
    "labels = list(df_train.iloc[ticks].index)\n",
    "\n",
    "plt.figure(figsize=(8,3), dpi=100)\n",
    "plt.plot(df_train, label='Training')\n",
    "plt.plot(df_test, label='Observed')\n",
    "\n",
    "plt.plot(Forecast, label='Forecast')\n",
    "plt.fill_between(lower_series.index, lower_series, upper_series, \n",
    "                 color='k', alpha=.15)\n",
    "\n",
    "plt.xticks(ticks, labels)\n",
    "\n",
    "plt.ylabel('Units sold')\n",
    "plt.title('Prophet - Demand Forecast')\n",
    "plt.legend(loc='upper left', fontsize=11)\n",
    "plt.show()"
   ]
  },
  {
   "cell_type": "markdown",
   "id": "801838df-ceed-4ec8-ad00-0ba93f052173",
   "metadata": {},
   "source": [
    "Much better predictions with Prophet than ARIMA"
   ]
  },
  {
   "cell_type": "code",
   "execution_count": 38,
   "id": "8db8788d-00d2-4fb7-b634-497d9f63ec0e",
   "metadata": {},
   "outputs": [
    {
     "data": {
      "text/plain": [
       "0.16160527469338906"
      ]
     },
     "execution_count": 38,
     "metadata": {},
     "output_type": "execute_result"
    }
   ],
   "source": [
    "mean_absolute_percentage_error(df_test, Forecast)"
   ]
  },
  {
   "cell_type": "code",
   "execution_count": 39,
   "id": "d6758710-ea1e-4f66-924c-a815ed22b8c9",
   "metadata": {},
   "outputs": [
    {
     "data": {
      "text/plain": [
       "381.6776944939047"
      ]
     },
     "execution_count": 39,
     "metadata": {},
     "output_type": "execute_result"
    }
   ],
   "source": [
    "mean_absolute_error(df_test, Forecast)"
   ]
  },
  {
   "cell_type": "code",
   "execution_count": 40,
   "id": "692f131d-610f-4aa9-a6a4-9c6e942ace0e",
   "metadata": {},
   "outputs": [
    {
     "data": {
      "text/plain": [
       "318376.05885196297"
      ]
     },
     "execution_count": 40,
     "metadata": {},
     "output_type": "execute_result"
    }
   ],
   "source": [
    "mean_squared_error(df_test, Forecast)"
   ]
  },
  {
   "cell_type": "code",
   "execution_count": null,
   "id": "71892d02-341d-43cc-80f3-0af7eb55ec18",
   "metadata": {},
   "outputs": [],
   "source": []
  },
  {
   "cell_type": "code",
   "execution_count": null,
   "id": "0b7a3992-caf4-495f-8d72-16ee1581360b",
   "metadata": {},
   "outputs": [],
   "source": []
  },
  {
   "cell_type": "code",
   "execution_count": null,
   "id": "973eca3e-53dc-43e9-9055-f100fb3b888b",
   "metadata": {},
   "outputs": [],
   "source": []
  }
 ],
 "metadata": {
  "kernelspec": {
   "display_name": "Python 3 (ipykernel)",
   "language": "python",
   "name": "python3"
  },
  "language_info": {
   "codemirror_mode": {
    "name": "ipython",
    "version": 3
   },
   "file_extension": ".py",
   "mimetype": "text/x-python",
   "name": "python",
   "nbconvert_exporter": "python",
   "pygments_lexer": "ipython3",
   "version": "3.8.8"
  }
 },
 "nbformat": 4,
 "nbformat_minor": 5
}
